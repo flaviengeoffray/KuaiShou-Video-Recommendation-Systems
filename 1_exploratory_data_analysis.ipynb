{
 "cells": [
  {
   "cell_type": "markdown",
   "id": "a12a947a",
   "metadata": {},
   "source": [
    "## KuaiRec Dataset Analysis\n",
    "### Introduction\n",
    "This notebook explores the KuaiRec dataset, a large-scale dataset collected from the Kuaishou short-video platform. The dataset contains user interactions with videos, video metadata, and user information, making it suitable for building a short video recommender system.\n",
    "### Setup and Data Loading"
   ]
  },
  {
   "cell_type": "code",
   "execution_count": 1,
   "id": "b0d9d124",
   "metadata": {},
   "outputs": [],
   "source": [
    "import pandas as pd\n",
    "import numpy as np\n",
    "import matplotlib.pyplot as plt\n",
    "import seaborn as sns\n",
    "import os\n",
    "\n",
    "plt.style.use('seaborn-v0_8-whitegrid')\n",
    "sns.set_palette(\"viridis\")"
   ]
  },
  {
   "cell_type": "code",
   "execution_count": 2,
   "id": "97bec3b9",
   "metadata": {},
   "outputs": [],
   "source": [
    "DATA_PATH = \"data_final_project/KuaiRec 2.0/data/\"\n",
    "\n",
    "# User-video interactions matrices\n",
    "interactions_train = pd.read_csv(f\"{DATA_PATH}big_matrix.csv\")\n",
    "interactions_test = pd.read_csv(f\"{DATA_PATH}small_matrix.csv\")\n",
    "\n",
    "# Video metadata\n",
    "kuairec_caption_category = pd.read_csv(\n",
    "    f\"{DATA_PATH}kuairec_caption_category.csv\",\n",
    "    engine=\"python\",\n",
    "    quotechar='\"',\n",
    "    on_bad_lines='skip'  # For pandas ≥ 1.3\n",
    ")\n",
    "item_categories = pd.read_csv(f\"{DATA_PATH}item_categories.csv\")\n",
    "item_daily_features = pd.read_csv(f\"{DATA_PATH}item_daily_features.csv\")\n",
    "\n",
    "# User data\n",
    "social_network = pd.read_csv(f\"{DATA_PATH}social_network.csv\")\n",
    "user_features = pd.read_csv(f\"{DATA_PATH}user_features.csv\")"
   ]
  },
  {
   "cell_type": "markdown",
   "id": "258109a7",
   "metadata": {},
   "source": [
    "## Data Overview\n",
    "Let's get a comprehensive overview of each dataset file.\n",
    "### Interaction Data\n",
    "First, let's look at the training interaction data:"
   ]
  },
  {
   "cell_type": "code",
   "execution_count": 3,
   "id": "2f1ab919",
   "metadata": {},
   "outputs": [
    {
     "name": "stdout",
     "output_type": "stream",
     "text": [
      "Training Interactions Shape: (12530806, 8)\n",
      "\n",
      "Columns: ['user_id', 'video_id', 'play_duration', 'video_duration', 'time', 'date', 'timestamp', 'watch_ratio']\n",
      "\n",
      "Sample data:\n"
     ]
    },
    {
     "data": {
      "application/vnd.microsoft.datawrangler.viewer.v0+json": {
       "columns": [
        {
         "name": "index",
         "rawType": "int64",
         "type": "integer"
        },
        {
         "name": "user_id",
         "rawType": "int64",
         "type": "integer"
        },
        {
         "name": "video_id",
         "rawType": "int64",
         "type": "integer"
        },
        {
         "name": "play_duration",
         "rawType": "int64",
         "type": "integer"
        },
        {
         "name": "video_duration",
         "rawType": "int64",
         "type": "integer"
        },
        {
         "name": "time",
         "rawType": "object",
         "type": "string"
        },
        {
         "name": "date",
         "rawType": "int64",
         "type": "integer"
        },
        {
         "name": "timestamp",
         "rawType": "float64",
         "type": "float"
        },
        {
         "name": "watch_ratio",
         "rawType": "float64",
         "type": "float"
        }
       ],
       "conversionMethod": "pd.DataFrame",
       "ref": "6e03e83e-e346-4dd1-a029-d8236d450072",
       "rows": [
        [
         "0",
         "0",
         "3649",
         "13838",
         "10867",
         "2020-07-05 00:08:23.438",
         "20200705",
         "1593878903.438",
         "1.2733965215790926"
        ],
        [
         "1",
         "0",
         "9598",
         "13665",
         "10984",
         "2020-07-05 00:13:41.297",
         "20200705",
         "1593879221.297",
         "1.2440823015294975"
        ],
        [
         "2",
         "0",
         "5262",
         "851",
         "7908",
         "2020-07-05 00:16:06.687",
         "20200705",
         "1593879366.687",
         "0.1076125442589782"
        ],
        [
         "3",
         "0",
         "1963",
         "862",
         "9590",
         "2020-07-05 00:20:26.792",
         "20200705",
         "1593879626.792",
         "0.0898852971845672"
        ],
        [
         "4",
         "0",
         "8234",
         "858",
         "11000",
         "2020-07-05 00:43:05.128",
         "20200705",
         "1593880985.128",
         "0.078"
        ]
       ],
       "shape": {
        "columns": 8,
        "rows": 5
       }
      },
      "text/html": [
       "<div>\n",
       "<style scoped>\n",
       "    .dataframe tbody tr th:only-of-type {\n",
       "        vertical-align: middle;\n",
       "    }\n",
       "\n",
       "    .dataframe tbody tr th {\n",
       "        vertical-align: top;\n",
       "    }\n",
       "\n",
       "    .dataframe thead th {\n",
       "        text-align: right;\n",
       "    }\n",
       "</style>\n",
       "<table border=\"1\" class=\"dataframe\">\n",
       "  <thead>\n",
       "    <tr style=\"text-align: right;\">\n",
       "      <th></th>\n",
       "      <th>user_id</th>\n",
       "      <th>video_id</th>\n",
       "      <th>play_duration</th>\n",
       "      <th>video_duration</th>\n",
       "      <th>time</th>\n",
       "      <th>date</th>\n",
       "      <th>timestamp</th>\n",
       "      <th>watch_ratio</th>\n",
       "    </tr>\n",
       "  </thead>\n",
       "  <tbody>\n",
       "    <tr>\n",
       "      <th>0</th>\n",
       "      <td>0</td>\n",
       "      <td>3649</td>\n",
       "      <td>13838</td>\n",
       "      <td>10867</td>\n",
       "      <td>2020-07-05 00:08:23.438</td>\n",
       "      <td>20200705</td>\n",
       "      <td>1.593879e+09</td>\n",
       "      <td>1.273397</td>\n",
       "    </tr>\n",
       "    <tr>\n",
       "      <th>1</th>\n",
       "      <td>0</td>\n",
       "      <td>9598</td>\n",
       "      <td>13665</td>\n",
       "      <td>10984</td>\n",
       "      <td>2020-07-05 00:13:41.297</td>\n",
       "      <td>20200705</td>\n",
       "      <td>1.593879e+09</td>\n",
       "      <td>1.244082</td>\n",
       "    </tr>\n",
       "    <tr>\n",
       "      <th>2</th>\n",
       "      <td>0</td>\n",
       "      <td>5262</td>\n",
       "      <td>851</td>\n",
       "      <td>7908</td>\n",
       "      <td>2020-07-05 00:16:06.687</td>\n",
       "      <td>20200705</td>\n",
       "      <td>1.593879e+09</td>\n",
       "      <td>0.107613</td>\n",
       "    </tr>\n",
       "    <tr>\n",
       "      <th>3</th>\n",
       "      <td>0</td>\n",
       "      <td>1963</td>\n",
       "      <td>862</td>\n",
       "      <td>9590</td>\n",
       "      <td>2020-07-05 00:20:26.792</td>\n",
       "      <td>20200705</td>\n",
       "      <td>1.593880e+09</td>\n",
       "      <td>0.089885</td>\n",
       "    </tr>\n",
       "    <tr>\n",
       "      <th>4</th>\n",
       "      <td>0</td>\n",
       "      <td>8234</td>\n",
       "      <td>858</td>\n",
       "      <td>11000</td>\n",
       "      <td>2020-07-05 00:43:05.128</td>\n",
       "      <td>20200705</td>\n",
       "      <td>1.593881e+09</td>\n",
       "      <td>0.078000</td>\n",
       "    </tr>\n",
       "  </tbody>\n",
       "</table>\n",
       "</div>"
      ],
      "text/plain": [
       "   user_id  video_id  play_duration  video_duration                     time  \\\n",
       "0        0      3649          13838           10867  2020-07-05 00:08:23.438   \n",
       "1        0      9598          13665           10984  2020-07-05 00:13:41.297   \n",
       "2        0      5262            851            7908  2020-07-05 00:16:06.687   \n",
       "3        0      1963            862            9590  2020-07-05 00:20:26.792   \n",
       "4        0      8234            858           11000  2020-07-05 00:43:05.128   \n",
       "\n",
       "       date     timestamp  watch_ratio  \n",
       "0  20200705  1.593879e+09     1.273397  \n",
       "1  20200705  1.593879e+09     1.244082  \n",
       "2  20200705  1.593879e+09     0.107613  \n",
       "3  20200705  1.593880e+09     0.089885  \n",
       "4  20200705  1.593881e+09     0.078000  "
      ]
     },
     "metadata": {},
     "output_type": "display_data"
    }
   ],
   "source": [
    "print(\"Training Interactions Shape:\", interactions_train.shape)\n",
    "print(\"\\nColumns:\", interactions_train.columns.tolist())\n",
    "print(\"\\nSample data:\")\n",
    "display(interactions_train.head())"
   ]
  },
  {
   "cell_type": "code",
   "execution_count": 4,
   "id": "95147d83",
   "metadata": {},
   "outputs": [
    {
     "name": "stdout",
     "output_type": "stream",
     "text": [
      "Test Interactions Shape: (4676570, 8)\n",
      "\n",
      "Columns: ['user_id', 'video_id', 'play_duration', 'video_duration', 'time', 'date', 'timestamp', 'watch_ratio']\n",
      "\n",
      "Sample data:\n"
     ]
    },
    {
     "data": {
      "application/vnd.microsoft.datawrangler.viewer.v0+json": {
       "columns": [
        {
         "name": "index",
         "rawType": "int64",
         "type": "integer"
        },
        {
         "name": "user_id",
         "rawType": "int64",
         "type": "integer"
        },
        {
         "name": "video_id",
         "rawType": "int64",
         "type": "integer"
        },
        {
         "name": "play_duration",
         "rawType": "int64",
         "type": "integer"
        },
        {
         "name": "video_duration",
         "rawType": "int64",
         "type": "integer"
        },
        {
         "name": "time",
         "rawType": "object",
         "type": "string"
        },
        {
         "name": "date",
         "rawType": "float64",
         "type": "float"
        },
        {
         "name": "timestamp",
         "rawType": "float64",
         "type": "float"
        },
        {
         "name": "watch_ratio",
         "rawType": "float64",
         "type": "float"
        }
       ],
       "conversionMethod": "pd.DataFrame",
       "ref": "219b7853-960c-4c84-956f-79b7af59810d",
       "rows": [
        [
         "0",
         "14",
         "148",
         "4381",
         "6067",
         "2020-07-05 05:27:48.378",
         "20200705.0",
         "1593898068.378",
         "0.7221031811438932"
        ],
        [
         "1",
         "14",
         "183",
         "11635",
         "6100",
         "2020-07-05 05:28:00.057",
         "20200705.0",
         "1593898080.057",
         "1.907377049180328"
        ],
        [
         "2",
         "14",
         "3649",
         "22422",
         "10867",
         "2020-07-05 05:29:09.479",
         "20200705.0",
         "1593898149.479",
         "2.063310941382166"
        ],
        [
         "3",
         "14",
         "5262",
         "4479",
         "7908",
         "2020-07-05 05:30:43.285",
         "20200705.0",
         "1593898243.285",
         "0.5663884673748103"
        ],
        [
         "4",
         "14",
         "8234",
         "4602",
         "11000",
         "2020-07-05 05:35:43.459",
         "20200705.0",
         "1593898543.459",
         "0.4183636363636364"
        ]
       ],
       "shape": {
        "columns": 8,
        "rows": 5
       }
      },
      "text/html": [
       "<div>\n",
       "<style scoped>\n",
       "    .dataframe tbody tr th:only-of-type {\n",
       "        vertical-align: middle;\n",
       "    }\n",
       "\n",
       "    .dataframe tbody tr th {\n",
       "        vertical-align: top;\n",
       "    }\n",
       "\n",
       "    .dataframe thead th {\n",
       "        text-align: right;\n",
       "    }\n",
       "</style>\n",
       "<table border=\"1\" class=\"dataframe\">\n",
       "  <thead>\n",
       "    <tr style=\"text-align: right;\">\n",
       "      <th></th>\n",
       "      <th>user_id</th>\n",
       "      <th>video_id</th>\n",
       "      <th>play_duration</th>\n",
       "      <th>video_duration</th>\n",
       "      <th>time</th>\n",
       "      <th>date</th>\n",
       "      <th>timestamp</th>\n",
       "      <th>watch_ratio</th>\n",
       "    </tr>\n",
       "  </thead>\n",
       "  <tbody>\n",
       "    <tr>\n",
       "      <th>0</th>\n",
       "      <td>14</td>\n",
       "      <td>148</td>\n",
       "      <td>4381</td>\n",
       "      <td>6067</td>\n",
       "      <td>2020-07-05 05:27:48.378</td>\n",
       "      <td>20200705.0</td>\n",
       "      <td>1.593898e+09</td>\n",
       "      <td>0.722103</td>\n",
       "    </tr>\n",
       "    <tr>\n",
       "      <th>1</th>\n",
       "      <td>14</td>\n",
       "      <td>183</td>\n",
       "      <td>11635</td>\n",
       "      <td>6100</td>\n",
       "      <td>2020-07-05 05:28:00.057</td>\n",
       "      <td>20200705.0</td>\n",
       "      <td>1.593898e+09</td>\n",
       "      <td>1.907377</td>\n",
       "    </tr>\n",
       "    <tr>\n",
       "      <th>2</th>\n",
       "      <td>14</td>\n",
       "      <td>3649</td>\n",
       "      <td>22422</td>\n",
       "      <td>10867</td>\n",
       "      <td>2020-07-05 05:29:09.479</td>\n",
       "      <td>20200705.0</td>\n",
       "      <td>1.593898e+09</td>\n",
       "      <td>2.063311</td>\n",
       "    </tr>\n",
       "    <tr>\n",
       "      <th>3</th>\n",
       "      <td>14</td>\n",
       "      <td>5262</td>\n",
       "      <td>4479</td>\n",
       "      <td>7908</td>\n",
       "      <td>2020-07-05 05:30:43.285</td>\n",
       "      <td>20200705.0</td>\n",
       "      <td>1.593898e+09</td>\n",
       "      <td>0.566388</td>\n",
       "    </tr>\n",
       "    <tr>\n",
       "      <th>4</th>\n",
       "      <td>14</td>\n",
       "      <td>8234</td>\n",
       "      <td>4602</td>\n",
       "      <td>11000</td>\n",
       "      <td>2020-07-05 05:35:43.459</td>\n",
       "      <td>20200705.0</td>\n",
       "      <td>1.593899e+09</td>\n",
       "      <td>0.418364</td>\n",
       "    </tr>\n",
       "  </tbody>\n",
       "</table>\n",
       "</div>"
      ],
      "text/plain": [
       "   user_id  video_id  play_duration  video_duration                     time  \\\n",
       "0       14       148           4381            6067  2020-07-05 05:27:48.378   \n",
       "1       14       183          11635            6100  2020-07-05 05:28:00.057   \n",
       "2       14      3649          22422           10867  2020-07-05 05:29:09.479   \n",
       "3       14      5262           4479            7908  2020-07-05 05:30:43.285   \n",
       "4       14      8234           4602           11000  2020-07-05 05:35:43.459   \n",
       "\n",
       "         date     timestamp  watch_ratio  \n",
       "0  20200705.0  1.593898e+09     0.722103  \n",
       "1  20200705.0  1.593898e+09     1.907377  \n",
       "2  20200705.0  1.593898e+09     2.063311  \n",
       "3  20200705.0  1.593898e+09     0.566388  \n",
       "4  20200705.0  1.593899e+09     0.418364  "
      ]
     },
     "metadata": {},
     "output_type": "display_data"
    }
   ],
   "source": [
    "print(\"Test Interactions Shape:\", interactions_test.shape)\n",
    "print(\"\\nColumns:\", interactions_test.columns.tolist())\n",
    "print(\"\\nSample data:\")\n",
    "display(interactions_test.head())"
   ]
  },
  {
   "cell_type": "markdown",
   "id": "a5bfaa14",
   "metadata": {},
   "source": [
    "### Video Metadata"
   ]
  },
  {
   "cell_type": "code",
   "execution_count": 5,
   "id": "6b8d8f8b",
   "metadata": {},
   "outputs": [
    {
     "name": "stdout",
     "output_type": "stream",
     "text": [
      "Caption & Category Data Shape: (10732, 10)\n",
      "\n",
      "Columns: ['video_id', 'manual_cover_text', 'caption', 'topic_tag', 'first_level_category_id', 'first_level_category_name', 'second_level_category_id', 'second_level_category_name', 'third_level_category_id', 'third_level_category_name']\n",
      "\n",
      "Sample data:\n"
     ]
    },
    {
     "data": {
      "application/vnd.microsoft.datawrangler.viewer.v0+json": {
       "columns": [
        {
         "name": "index",
         "rawType": "int64",
         "type": "integer"
        },
        {
         "name": "video_id",
         "rawType": "object",
         "type": "string"
        },
        {
         "name": "manual_cover_text",
         "rawType": "object",
         "type": "string"
        },
        {
         "name": "caption",
         "rawType": "object",
         "type": "unknown"
        },
        {
         "name": "topic_tag",
         "rawType": "object",
         "type": "string"
        },
        {
         "name": "first_level_category_id",
         "rawType": "float64",
         "type": "float"
        },
        {
         "name": "first_level_category_name",
         "rawType": "object",
         "type": "string"
        },
        {
         "name": "second_level_category_id",
         "rawType": "float64",
         "type": "float"
        },
        {
         "name": "second_level_category_name",
         "rawType": "object",
         "type": "string"
        },
        {
         "name": "third_level_category_id",
         "rawType": "float64",
         "type": "float"
        },
        {
         "name": "third_level_category_name",
         "rawType": "object",
         "type": "string"
        }
       ],
       "conversionMethod": "pd.DataFrame",
       "ref": "8eee5b55-1179-4973-adcc-e5144f604d0e",
       "rows": [
        [
         "0",
         "0",
         "UNKNOWN",
         "精神小伙路难走 程哥你狗粮慢点撒",
         "[]",
         "8.0",
         "颜值",
         "673.0",
         "颜值随拍",
         "-124.0",
         "UNKNOWN"
        ],
        [
         "1",
         "1",
         "UNKNOWN",
         null,
         "[]",
         "27.0",
         "高新数码",
         "-124.0",
         "UNKNOWN",
         "-124.0",
         "UNKNOWN"
        ],
        [
         "2",
         "2",
         "UNKNOWN",
         "晚饭后，运动一下！",
         "[]",
         "9.0",
         "喜剧",
         "727.0",
         "搞笑互动",
         "-124.0",
         "UNKNOWN"
        ],
        [
         "3",
         "3",
         "UNKNOWN",
         "我平淡无奇，惊艳不了时光，温柔不了岁月，我只想漫无目的的走走，努力发笔小财，给自己买花 自己长大.",
         "[]",
         "26.0",
         "摄影",
         "686.0",
         "主题摄影",
         "2434.0",
         "景物摄影"
        ],
        [
         "4",
         "4",
         "五爱街最美美女 一天1q",
         "#搞笑 #感谢快手我要上热门 #五爱市场 这真是完美搭配啊！",
         "[五爱市场,感谢快手我要上热门,搞笑]",
         "5.0",
         "时尚",
         "737.0",
         "营销售卖",
         "2596.0",
         "女装"
        ]
       ],
       "shape": {
        "columns": 10,
        "rows": 5
       }
      },
      "text/html": [
       "<div>\n",
       "<style scoped>\n",
       "    .dataframe tbody tr th:only-of-type {\n",
       "        vertical-align: middle;\n",
       "    }\n",
       "\n",
       "    .dataframe tbody tr th {\n",
       "        vertical-align: top;\n",
       "    }\n",
       "\n",
       "    .dataframe thead th {\n",
       "        text-align: right;\n",
       "    }\n",
       "</style>\n",
       "<table border=\"1\" class=\"dataframe\">\n",
       "  <thead>\n",
       "    <tr style=\"text-align: right;\">\n",
       "      <th></th>\n",
       "      <th>video_id</th>\n",
       "      <th>manual_cover_text</th>\n",
       "      <th>caption</th>\n",
       "      <th>topic_tag</th>\n",
       "      <th>first_level_category_id</th>\n",
       "      <th>first_level_category_name</th>\n",
       "      <th>second_level_category_id</th>\n",
       "      <th>second_level_category_name</th>\n",
       "      <th>third_level_category_id</th>\n",
       "      <th>third_level_category_name</th>\n",
       "    </tr>\n",
       "  </thead>\n",
       "  <tbody>\n",
       "    <tr>\n",
       "      <th>0</th>\n",
       "      <td>0</td>\n",
       "      <td>UNKNOWN</td>\n",
       "      <td>精神小伙路难走 程哥你狗粮慢点撒</td>\n",
       "      <td>[]</td>\n",
       "      <td>8.0</td>\n",
       "      <td>颜值</td>\n",
       "      <td>673.0</td>\n",
       "      <td>颜值随拍</td>\n",
       "      <td>-124.0</td>\n",
       "      <td>UNKNOWN</td>\n",
       "    </tr>\n",
       "    <tr>\n",
       "      <th>1</th>\n",
       "      <td>1</td>\n",
       "      <td>UNKNOWN</td>\n",
       "      <td>NaN</td>\n",
       "      <td>[]</td>\n",
       "      <td>27.0</td>\n",
       "      <td>高新数码</td>\n",
       "      <td>-124.0</td>\n",
       "      <td>UNKNOWN</td>\n",
       "      <td>-124.0</td>\n",
       "      <td>UNKNOWN</td>\n",
       "    </tr>\n",
       "    <tr>\n",
       "      <th>2</th>\n",
       "      <td>2</td>\n",
       "      <td>UNKNOWN</td>\n",
       "      <td>晚饭后，运动一下！</td>\n",
       "      <td>[]</td>\n",
       "      <td>9.0</td>\n",
       "      <td>喜剧</td>\n",
       "      <td>727.0</td>\n",
       "      <td>搞笑互动</td>\n",
       "      <td>-124.0</td>\n",
       "      <td>UNKNOWN</td>\n",
       "    </tr>\n",
       "    <tr>\n",
       "      <th>3</th>\n",
       "      <td>3</td>\n",
       "      <td>UNKNOWN</td>\n",
       "      <td>我平淡无奇，惊艳不了时光，温柔不了岁月，我只想漫无目的的走走，努力发笔小财，给自己买花 自己长大.</td>\n",
       "      <td>[]</td>\n",
       "      <td>26.0</td>\n",
       "      <td>摄影</td>\n",
       "      <td>686.0</td>\n",
       "      <td>主题摄影</td>\n",
       "      <td>2434.0</td>\n",
       "      <td>景物摄影</td>\n",
       "    </tr>\n",
       "    <tr>\n",
       "      <th>4</th>\n",
       "      <td>4</td>\n",
       "      <td>五爱街最美美女 一天1q</td>\n",
       "      <td>#搞笑 #感谢快手我要上热门 #五爱市场 这真是完美搭配啊！</td>\n",
       "      <td>[五爱市场,感谢快手我要上热门,搞笑]</td>\n",
       "      <td>5.0</td>\n",
       "      <td>时尚</td>\n",
       "      <td>737.0</td>\n",
       "      <td>营销售卖</td>\n",
       "      <td>2596.0</td>\n",
       "      <td>女装</td>\n",
       "    </tr>\n",
       "  </tbody>\n",
       "</table>\n",
       "</div>"
      ],
      "text/plain": [
       "  video_id manual_cover_text  \\\n",
       "0        0           UNKNOWN   \n",
       "1        1           UNKNOWN   \n",
       "2        2           UNKNOWN   \n",
       "3        3           UNKNOWN   \n",
       "4        4      五爱街最美美女 一天1q   \n",
       "\n",
       "                                             caption            topic_tag  \\\n",
       "0                                   精神小伙路难走 程哥你狗粮慢点撒                   []   \n",
       "1                                                NaN                   []   \n",
       "2                                          晚饭后，运动一下！                   []   \n",
       "3  我平淡无奇，惊艳不了时光，温柔不了岁月，我只想漫无目的的走走，努力发笔小财，给自己买花 自己长大.                   []   \n",
       "4                     #搞笑 #感谢快手我要上热门 #五爱市场 这真是完美搭配啊！  [五爱市场,感谢快手我要上热门,搞笑]   \n",
       "\n",
       "   first_level_category_id first_level_category_name  \\\n",
       "0                      8.0                        颜值   \n",
       "1                     27.0                      高新数码   \n",
       "2                      9.0                        喜剧   \n",
       "3                     26.0                        摄影   \n",
       "4                      5.0                        时尚   \n",
       "\n",
       "   second_level_category_id second_level_category_name  \\\n",
       "0                     673.0                       颜值随拍   \n",
       "1                    -124.0                    UNKNOWN   \n",
       "2                     727.0                       搞笑互动   \n",
       "3                     686.0                       主题摄影   \n",
       "4                     737.0                       营销售卖   \n",
       "\n",
       "   third_level_category_id third_level_category_name  \n",
       "0                   -124.0                   UNKNOWN  \n",
       "1                   -124.0                   UNKNOWN  \n",
       "2                   -124.0                   UNKNOWN  \n",
       "3                   2434.0                      景物摄影  \n",
       "4                   2596.0                        女装  "
      ]
     },
     "metadata": {},
     "output_type": "display_data"
    },
    {
     "name": "stdout",
     "output_type": "stream",
     "text": [
      "\n",
      "Distribution of main categories:\n",
      "first_level_category_name\n",
      "民生资讯    1095\n",
      "时尚      1034\n",
      "其他       913\n",
      "颜值       824\n",
      "情感       532\n",
      "美食       475\n",
      "明星娱乐     471\n",
      "舞蹈       422\n",
      "生活       417\n",
      "自拍       379\n",
      "Name: count, dtype: int64\n",
      "\n",
      "\n",
      "video_id                       object\n",
      "manual_cover_text              object\n",
      "caption                        object\n",
      "topic_tag                      object\n",
      "first_level_category_id       float64\n",
      "first_level_category_name      object\n",
      "second_level_category_id      float64\n",
      "second_level_category_name     object\n",
      "third_level_category_id       float64\n",
      "third_level_category_name      object\n",
      "dtype: object\n",
      "\n",
      "Number of unique videos: 10730\n",
      "\n",
      "Number of first level categories: 41\n",
      "Number of second level categories: 139\n",
      "Number of third level categories: 221\n",
      "\n",
      "There are non-numeric values in 'video_id'.\n",
      "4 non-numeric values found.\n"
     ]
    }
   ],
   "source": [
    "print(\"Caption & Category Data Shape:\", kuairec_caption_category.shape)\n",
    "print(\"\\nColumns:\", kuairec_caption_category.columns.tolist())\n",
    "print(\"\\nSample data:\")\n",
    "display(kuairec_caption_category.head())\n",
    "\n",
    "print(\"\\nDistribution of main categories:\")\n",
    "if 'first_level_category_name' in kuairec_caption_category.columns:\n",
    "    print(kuairec_caption_category['first_level_category_name'].value_counts().head(10))\n",
    "\n",
    "print(\"\\n\")\n",
    "print(kuairec_caption_category.dtypes)\n",
    "print(\"\\nNumber of unique videos:\", kuairec_caption_category['video_id'].nunique()) \n",
    "\n",
    "print(\"\\nNumber of first level categories:\", kuairec_caption_category['first_level_category_name'].nunique())\n",
    "print(\"Number of second level categories:\", kuairec_caption_category['second_level_category_name'].nunique())\n",
    "print(\"Number of third level categories:\", kuairec_caption_category['third_level_category_name'].nunique())\n",
    "\n",
    "# Check if 'video_id' contains non-numeric values\n",
    "if not pd.to_numeric(kuairec_caption_category['video_id'], errors='coerce').notnull().all():\n",
    "    print(\"\\nThere are non-numeric values in 'video_id'.\")\n",
    "    print(pd.to_numeric(kuairec_caption_category['video_id'], errors='coerce').isnull().sum(), \"non-numeric values found.\") # = 4\n",
    "    # That's why there are 10728 unique videos in the item tables and 10732 in kuairec_caption_category\n",
    "else:\n",
    "    print(\"\\nAll 'video_id' values are numeric.\")"
   ]
  },
  {
   "cell_type": "code",
   "execution_count": 6,
   "id": "a157cd01",
   "metadata": {},
   "outputs": [
    {
     "name": "stdout",
     "output_type": "stream",
     "text": [
      "Item Categories Shape: (10728, 2)\n",
      "\n",
      "Columns: ['video_id', 'feat']\n",
      "\n",
      "Sample data:\n"
     ]
    },
    {
     "data": {
      "application/vnd.microsoft.datawrangler.viewer.v0+json": {
       "columns": [
        {
         "name": "index",
         "rawType": "int64",
         "type": "integer"
        },
        {
         "name": "video_id",
         "rawType": "int64",
         "type": "integer"
        },
        {
         "name": "feat",
         "rawType": "object",
         "type": "string"
        }
       ],
       "conversionMethod": "pd.DataFrame",
       "ref": "3580533b-826e-4c91-a78c-05779805e60b",
       "rows": [
        [
         "0",
         "0",
         "[8]"
        ],
        [
         "1",
         "1",
         "[27, 9]"
        ],
        [
         "2",
         "2",
         "[9]"
        ],
        [
         "3",
         "3",
         "[26]"
        ],
        [
         "4",
         "4",
         "[5]"
        ]
       ],
       "shape": {
        "columns": 2,
        "rows": 5
       }
      },
      "text/html": [
       "<div>\n",
       "<style scoped>\n",
       "    .dataframe tbody tr th:only-of-type {\n",
       "        vertical-align: middle;\n",
       "    }\n",
       "\n",
       "    .dataframe tbody tr th {\n",
       "        vertical-align: top;\n",
       "    }\n",
       "\n",
       "    .dataframe thead th {\n",
       "        text-align: right;\n",
       "    }\n",
       "</style>\n",
       "<table border=\"1\" class=\"dataframe\">\n",
       "  <thead>\n",
       "    <tr style=\"text-align: right;\">\n",
       "      <th></th>\n",
       "      <th>video_id</th>\n",
       "      <th>feat</th>\n",
       "    </tr>\n",
       "  </thead>\n",
       "  <tbody>\n",
       "    <tr>\n",
       "      <th>0</th>\n",
       "      <td>0</td>\n",
       "      <td>[8]</td>\n",
       "    </tr>\n",
       "    <tr>\n",
       "      <th>1</th>\n",
       "      <td>1</td>\n",
       "      <td>[27, 9]</td>\n",
       "    </tr>\n",
       "    <tr>\n",
       "      <th>2</th>\n",
       "      <td>2</td>\n",
       "      <td>[9]</td>\n",
       "    </tr>\n",
       "    <tr>\n",
       "      <th>3</th>\n",
       "      <td>3</td>\n",
       "      <td>[26]</td>\n",
       "    </tr>\n",
       "    <tr>\n",
       "      <th>4</th>\n",
       "      <td>4</td>\n",
       "      <td>[5]</td>\n",
       "    </tr>\n",
       "  </tbody>\n",
       "</table>\n",
       "</div>"
      ],
      "text/plain": [
       "   video_id     feat\n",
       "0         0      [8]\n",
       "1         1  [27, 9]\n",
       "2         2      [9]\n",
       "3         3     [26]\n",
       "4         4      [5]"
      ]
     },
     "metadata": {},
     "output_type": "display_data"
    }
   ],
   "source": [
    "print(\"Item Categories Shape:\", item_categories.shape)\n",
    "print(\"\\nColumns:\", item_categories.columns.tolist())\n",
    "print(\"\\nSample data:\")\n",
    "display(item_categories.head())"
   ]
  },
  {
   "cell_type": "code",
   "execution_count": 7,
   "id": "9967dd22",
   "metadata": {},
   "outputs": [
    {
     "name": "stdout",
     "output_type": "stream",
     "text": [
      "Item Daily Features Shape: (343341, 58)\n",
      "\n",
      "Columns: ['video_id', 'date', 'author_id', 'video_type', 'upload_dt', 'upload_type', 'visible_status', 'video_duration', 'video_width', 'video_height', 'music_id', 'video_tag_id', 'video_tag_name', 'show_cnt', 'show_user_num', 'play_cnt', 'play_user_num', 'play_duration', 'complete_play_cnt', 'complete_play_user_num', 'valid_play_cnt', 'valid_play_user_num', 'long_time_play_cnt', 'long_time_play_user_num', 'short_time_play_cnt', 'short_time_play_user_num', 'play_progress', 'comment_stay_duration', 'like_cnt', 'like_user_num', 'click_like_cnt', 'double_click_cnt', 'cancel_like_cnt', 'cancel_like_user_num', 'comment_cnt', 'comment_user_num', 'direct_comment_cnt', 'reply_comment_cnt', 'delete_comment_cnt', 'delete_comment_user_num', 'comment_like_cnt', 'comment_like_user_num', 'follow_cnt', 'follow_user_num', 'cancel_follow_cnt', 'cancel_follow_user_num', 'share_cnt', 'share_user_num', 'download_cnt', 'download_user_num', 'report_cnt', 'report_user_num', 'reduce_similar_cnt', 'reduce_similar_user_num', 'collect_cnt', 'collect_user_num', 'cancel_collect_cnt', 'cancel_collect_user_num']\n",
      "\n",
      "Sample data:\n"
     ]
    },
    {
     "data": {
      "application/vnd.microsoft.datawrangler.viewer.v0+json": {
       "columns": [
        {
         "name": "index",
         "rawType": "int64",
         "type": "integer"
        },
        {
         "name": "video_id",
         "rawType": "int64",
         "type": "integer"
        },
        {
         "name": "date",
         "rawType": "int64",
         "type": "integer"
        },
        {
         "name": "author_id",
         "rawType": "int64",
         "type": "integer"
        },
        {
         "name": "video_type",
         "rawType": "object",
         "type": "string"
        },
        {
         "name": "upload_dt",
         "rawType": "object",
         "type": "string"
        },
        {
         "name": "upload_type",
         "rawType": "object",
         "type": "string"
        },
        {
         "name": "visible_status",
         "rawType": "object",
         "type": "string"
        },
        {
         "name": "video_duration",
         "rawType": "float64",
         "type": "float"
        },
        {
         "name": "video_width",
         "rawType": "int64",
         "type": "integer"
        },
        {
         "name": "video_height",
         "rawType": "int64",
         "type": "integer"
        },
        {
         "name": "music_id",
         "rawType": "int64",
         "type": "integer"
        },
        {
         "name": "video_tag_id",
         "rawType": "int64",
         "type": "integer"
        },
        {
         "name": "video_tag_name",
         "rawType": "object",
         "type": "string"
        },
        {
         "name": "show_cnt",
         "rawType": "int64",
         "type": "integer"
        },
        {
         "name": "show_user_num",
         "rawType": "int64",
         "type": "integer"
        },
        {
         "name": "play_cnt",
         "rawType": "int64",
         "type": "integer"
        },
        {
         "name": "play_user_num",
         "rawType": "int64",
         "type": "integer"
        },
        {
         "name": "play_duration",
         "rawType": "int64",
         "type": "integer"
        },
        {
         "name": "complete_play_cnt",
         "rawType": "int64",
         "type": "integer"
        },
        {
         "name": "complete_play_user_num",
         "rawType": "int64",
         "type": "integer"
        },
        {
         "name": "valid_play_cnt",
         "rawType": "int64",
         "type": "integer"
        },
        {
         "name": "valid_play_user_num",
         "rawType": "int64",
         "type": "integer"
        },
        {
         "name": "long_time_play_cnt",
         "rawType": "int64",
         "type": "integer"
        },
        {
         "name": "long_time_play_user_num",
         "rawType": "int64",
         "type": "integer"
        },
        {
         "name": "short_time_play_cnt",
         "rawType": "int64",
         "type": "integer"
        },
        {
         "name": "short_time_play_user_num",
         "rawType": "int64",
         "type": "integer"
        },
        {
         "name": "play_progress",
         "rawType": "float64",
         "type": "float"
        },
        {
         "name": "comment_stay_duration",
         "rawType": "int64",
         "type": "integer"
        },
        {
         "name": "like_cnt",
         "rawType": "int64",
         "type": "integer"
        },
        {
         "name": "like_user_num",
         "rawType": "int64",
         "type": "integer"
        },
        {
         "name": "click_like_cnt",
         "rawType": "int64",
         "type": "integer"
        },
        {
         "name": "double_click_cnt",
         "rawType": "int64",
         "type": "integer"
        },
        {
         "name": "cancel_like_cnt",
         "rawType": "int64",
         "type": "integer"
        },
        {
         "name": "cancel_like_user_num",
         "rawType": "int64",
         "type": "integer"
        },
        {
         "name": "comment_cnt",
         "rawType": "int64",
         "type": "integer"
        },
        {
         "name": "comment_user_num",
         "rawType": "int64",
         "type": "integer"
        },
        {
         "name": "direct_comment_cnt",
         "rawType": "int64",
         "type": "integer"
        },
        {
         "name": "reply_comment_cnt",
         "rawType": "int64",
         "type": "integer"
        },
        {
         "name": "delete_comment_cnt",
         "rawType": "int64",
         "type": "integer"
        },
        {
         "name": "delete_comment_user_num",
         "rawType": "int64",
         "type": "integer"
        },
        {
         "name": "comment_like_cnt",
         "rawType": "int64",
         "type": "integer"
        },
        {
         "name": "comment_like_user_num",
         "rawType": "int64",
         "type": "integer"
        },
        {
         "name": "follow_cnt",
         "rawType": "int64",
         "type": "integer"
        },
        {
         "name": "follow_user_num",
         "rawType": "int64",
         "type": "integer"
        },
        {
         "name": "cancel_follow_cnt",
         "rawType": "int64",
         "type": "integer"
        },
        {
         "name": "cancel_follow_user_num",
         "rawType": "int64",
         "type": "integer"
        },
        {
         "name": "share_cnt",
         "rawType": "int64",
         "type": "integer"
        },
        {
         "name": "share_user_num",
         "rawType": "int64",
         "type": "integer"
        },
        {
         "name": "download_cnt",
         "rawType": "int64",
         "type": "integer"
        },
        {
         "name": "download_user_num",
         "rawType": "int64",
         "type": "integer"
        },
        {
         "name": "report_cnt",
         "rawType": "int64",
         "type": "integer"
        },
        {
         "name": "report_user_num",
         "rawType": "int64",
         "type": "integer"
        },
        {
         "name": "reduce_similar_cnt",
         "rawType": "int64",
         "type": "integer"
        },
        {
         "name": "reduce_similar_user_num",
         "rawType": "int64",
         "type": "integer"
        },
        {
         "name": "collect_cnt",
         "rawType": "float64",
         "type": "float"
        },
        {
         "name": "collect_user_num",
         "rawType": "float64",
         "type": "float"
        },
        {
         "name": "cancel_collect_cnt",
         "rawType": "float64",
         "type": "float"
        },
        {
         "name": "cancel_collect_user_num",
         "rawType": "float64",
         "type": "float"
        }
       ],
       "conversionMethod": "pd.DataFrame",
       "ref": "1524fe53-2a01-4d4f-afc9-47ec2ef1fabb",
       "rows": [
        [
         "0",
         "0",
         "20200705",
         "3309",
         "NORMAL",
         "2020-03-30",
         "ShortImport",
         "public",
         "5966.0",
         "720",
         "1280",
         "3350323409",
         "841",
         "建筑",
         "14665",
         "11372",
         "10141",
         "7485",
         "88729488",
         "5657",
         "4834",
         "5503",
         "4775",
         "5503",
         "4775",
         "1939",
         "1481",
         "0.7998600086607257",
         "6629173",
         "573",
         "569",
         "315",
         "257",
         "87",
         "85",
         "11",
         "11",
         "8",
         "3",
         "0",
         "0",
         "112",
         "61",
         "284",
         "284",
         "0",
         "0",
         "2",
         "2",
         "8",
         "8",
         "0",
         "0",
         "3",
         "3",
         null,
         null,
         null,
         null
        ],
        [
         "1",
         "0",
         "20200706",
         "3309",
         "NORMAL",
         "2020-03-30",
         "ShortImport",
         "public",
         "5966.0",
         "720",
         "1280",
         "3350323409",
         "841",
         "建筑",
         "10883",
         "8513",
         "7321",
         "5490",
         "64264607",
         "4162",
         "3522",
         "4039",
         "3468",
         "4039",
         "3468",
         "1340",
         "1040",
         "0.8052530649367682",
         "3997498",
         "302",
         "301",
         "159",
         "142",
         "47",
         "47",
         "7",
         "7",
         "6",
         "1",
         "0",
         "0",
         "60",
         "32",
         "201",
         "200",
         "0",
         "0",
         "1",
         "1",
         "2",
         "2",
         "0",
         "0",
         "5",
         "5",
         null,
         null,
         null,
         null
        ],
        [
         "2",
         "0",
         "20200707",
         "3309",
         "NORMAL",
         "2020-03-30",
         "ShortImport",
         "public",
         "5966.0",
         "720",
         "1280",
         "3350323409",
         "841",
         "建筑",
         "7842",
         "6281",
         "4757",
         "3724",
         "41338741",
         "2734",
         "2403",
         "2640",
         "2376",
         "2640",
         "2376",
         "866",
         "683",
         "0.808821205114609",
         "3314323",
         "205",
         "205",
         "121",
         "84",
         "52",
         "50",
         "4",
         "3",
         "3",
         "1",
         "0",
         "0",
         "59",
         "26",
         "131",
         "131",
         "0",
         "0",
         "1",
         "1",
         "2",
         "2",
         "0",
         "0",
         "0",
         "0",
         null,
         null,
         null,
         null
        ],
        [
         "3",
         "0",
         "20200708",
         "3309",
         "NORMAL",
         "2020-03-30",
         "ShortImport",
         "public",
         "5966.0",
         "720",
         "1280",
         "3350323409",
         "841",
         "建筑",
         "8916",
         "7229",
         "5172",
         "3961",
         "45281254",
         "2950",
         "2525",
         "2865",
         "2498",
         "2865",
         "2498",
         "977",
         "765",
         "0.8016798255988417",
         "4235579",
         "297",
         "293",
         "178",
         "119",
         "60",
         "59",
         "4",
         "4",
         "2",
         "2",
         "0",
         "0",
         "91",
         "46",
         "179",
         "179",
         "0",
         "0",
         "2",
         "2",
         "3",
         "3",
         "0",
         "0",
         "3",
         "3",
         null,
         null,
         null,
         null
        ],
        [
         "4",
         "0",
         "20200709",
         "3309",
         "NORMAL",
         "2020-03-30",
         "ShortImport",
         "public",
         "5966.0",
         "720",
         "1280",
         "3350323409",
         "841",
         "建筑",
         "8502",
         "6658",
         "5392",
         "3946",
         "46952744",
         "3058",
         "2566",
         "2946",
         "2533",
         "2945",
         "2532",
         "1046",
         "752",
         "0.8053588063278823",
         "3862095",
         "307",
         "305",
         "166",
         "141",
         "57",
         "56",
         "5",
         "2",
         "0",
         "5",
         "0",
         "0",
         "76",
         "47",
         "186",
         "186",
         "0",
         "0",
         "0",
         "0",
         "2",
         "2",
         "2",
         "1",
         "1",
         "1",
         null,
         null,
         null,
         null
        ]
       ],
       "shape": {
        "columns": 58,
        "rows": 5
       }
      },
      "text/html": [
       "<div>\n",
       "<style scoped>\n",
       "    .dataframe tbody tr th:only-of-type {\n",
       "        vertical-align: middle;\n",
       "    }\n",
       "\n",
       "    .dataframe tbody tr th {\n",
       "        vertical-align: top;\n",
       "    }\n",
       "\n",
       "    .dataframe thead th {\n",
       "        text-align: right;\n",
       "    }\n",
       "</style>\n",
       "<table border=\"1\" class=\"dataframe\">\n",
       "  <thead>\n",
       "    <tr style=\"text-align: right;\">\n",
       "      <th></th>\n",
       "      <th>video_id</th>\n",
       "      <th>date</th>\n",
       "      <th>author_id</th>\n",
       "      <th>video_type</th>\n",
       "      <th>upload_dt</th>\n",
       "      <th>upload_type</th>\n",
       "      <th>visible_status</th>\n",
       "      <th>video_duration</th>\n",
       "      <th>video_width</th>\n",
       "      <th>video_height</th>\n",
       "      <th>...</th>\n",
       "      <th>download_cnt</th>\n",
       "      <th>download_user_num</th>\n",
       "      <th>report_cnt</th>\n",
       "      <th>report_user_num</th>\n",
       "      <th>reduce_similar_cnt</th>\n",
       "      <th>reduce_similar_user_num</th>\n",
       "      <th>collect_cnt</th>\n",
       "      <th>collect_user_num</th>\n",
       "      <th>cancel_collect_cnt</th>\n",
       "      <th>cancel_collect_user_num</th>\n",
       "    </tr>\n",
       "  </thead>\n",
       "  <tbody>\n",
       "    <tr>\n",
       "      <th>0</th>\n",
       "      <td>0</td>\n",
       "      <td>20200705</td>\n",
       "      <td>3309</td>\n",
       "      <td>NORMAL</td>\n",
       "      <td>2020-03-30</td>\n",
       "      <td>ShortImport</td>\n",
       "      <td>public</td>\n",
       "      <td>5966.0</td>\n",
       "      <td>720</td>\n",
       "      <td>1280</td>\n",
       "      <td>...</td>\n",
       "      <td>8</td>\n",
       "      <td>8</td>\n",
       "      <td>0</td>\n",
       "      <td>0</td>\n",
       "      <td>3</td>\n",
       "      <td>3</td>\n",
       "      <td>NaN</td>\n",
       "      <td>NaN</td>\n",
       "      <td>NaN</td>\n",
       "      <td>NaN</td>\n",
       "    </tr>\n",
       "    <tr>\n",
       "      <th>1</th>\n",
       "      <td>0</td>\n",
       "      <td>20200706</td>\n",
       "      <td>3309</td>\n",
       "      <td>NORMAL</td>\n",
       "      <td>2020-03-30</td>\n",
       "      <td>ShortImport</td>\n",
       "      <td>public</td>\n",
       "      <td>5966.0</td>\n",
       "      <td>720</td>\n",
       "      <td>1280</td>\n",
       "      <td>...</td>\n",
       "      <td>2</td>\n",
       "      <td>2</td>\n",
       "      <td>0</td>\n",
       "      <td>0</td>\n",
       "      <td>5</td>\n",
       "      <td>5</td>\n",
       "      <td>NaN</td>\n",
       "      <td>NaN</td>\n",
       "      <td>NaN</td>\n",
       "      <td>NaN</td>\n",
       "    </tr>\n",
       "    <tr>\n",
       "      <th>2</th>\n",
       "      <td>0</td>\n",
       "      <td>20200707</td>\n",
       "      <td>3309</td>\n",
       "      <td>NORMAL</td>\n",
       "      <td>2020-03-30</td>\n",
       "      <td>ShortImport</td>\n",
       "      <td>public</td>\n",
       "      <td>5966.0</td>\n",
       "      <td>720</td>\n",
       "      <td>1280</td>\n",
       "      <td>...</td>\n",
       "      <td>2</td>\n",
       "      <td>2</td>\n",
       "      <td>0</td>\n",
       "      <td>0</td>\n",
       "      <td>0</td>\n",
       "      <td>0</td>\n",
       "      <td>NaN</td>\n",
       "      <td>NaN</td>\n",
       "      <td>NaN</td>\n",
       "      <td>NaN</td>\n",
       "    </tr>\n",
       "    <tr>\n",
       "      <th>3</th>\n",
       "      <td>0</td>\n",
       "      <td>20200708</td>\n",
       "      <td>3309</td>\n",
       "      <td>NORMAL</td>\n",
       "      <td>2020-03-30</td>\n",
       "      <td>ShortImport</td>\n",
       "      <td>public</td>\n",
       "      <td>5966.0</td>\n",
       "      <td>720</td>\n",
       "      <td>1280</td>\n",
       "      <td>...</td>\n",
       "      <td>3</td>\n",
       "      <td>3</td>\n",
       "      <td>0</td>\n",
       "      <td>0</td>\n",
       "      <td>3</td>\n",
       "      <td>3</td>\n",
       "      <td>NaN</td>\n",
       "      <td>NaN</td>\n",
       "      <td>NaN</td>\n",
       "      <td>NaN</td>\n",
       "    </tr>\n",
       "    <tr>\n",
       "      <th>4</th>\n",
       "      <td>0</td>\n",
       "      <td>20200709</td>\n",
       "      <td>3309</td>\n",
       "      <td>NORMAL</td>\n",
       "      <td>2020-03-30</td>\n",
       "      <td>ShortImport</td>\n",
       "      <td>public</td>\n",
       "      <td>5966.0</td>\n",
       "      <td>720</td>\n",
       "      <td>1280</td>\n",
       "      <td>...</td>\n",
       "      <td>2</td>\n",
       "      <td>2</td>\n",
       "      <td>2</td>\n",
       "      <td>1</td>\n",
       "      <td>1</td>\n",
       "      <td>1</td>\n",
       "      <td>NaN</td>\n",
       "      <td>NaN</td>\n",
       "      <td>NaN</td>\n",
       "      <td>NaN</td>\n",
       "    </tr>\n",
       "  </tbody>\n",
       "</table>\n",
       "<p>5 rows × 58 columns</p>\n",
       "</div>"
      ],
      "text/plain": [
       "   video_id      date  author_id video_type   upload_dt  upload_type  \\\n",
       "0         0  20200705       3309     NORMAL  2020-03-30  ShortImport   \n",
       "1         0  20200706       3309     NORMAL  2020-03-30  ShortImport   \n",
       "2         0  20200707       3309     NORMAL  2020-03-30  ShortImport   \n",
       "3         0  20200708       3309     NORMAL  2020-03-30  ShortImport   \n",
       "4         0  20200709       3309     NORMAL  2020-03-30  ShortImport   \n",
       "\n",
       "  visible_status  video_duration  video_width  video_height  ...  \\\n",
       "0         public          5966.0          720          1280  ...   \n",
       "1         public          5966.0          720          1280  ...   \n",
       "2         public          5966.0          720          1280  ...   \n",
       "3         public          5966.0          720          1280  ...   \n",
       "4         public          5966.0          720          1280  ...   \n",
       "\n",
       "   download_cnt  download_user_num report_cnt  report_user_num  \\\n",
       "0             8                  8          0                0   \n",
       "1             2                  2          0                0   \n",
       "2             2                  2          0                0   \n",
       "3             3                  3          0                0   \n",
       "4             2                  2          2                1   \n",
       "\n",
       "   reduce_similar_cnt  reduce_similar_user_num  collect_cnt  collect_user_num  \\\n",
       "0                   3                        3          NaN               NaN   \n",
       "1                   5                        5          NaN               NaN   \n",
       "2                   0                        0          NaN               NaN   \n",
       "3                   3                        3          NaN               NaN   \n",
       "4                   1                        1          NaN               NaN   \n",
       "\n",
       "   cancel_collect_cnt  cancel_collect_user_num  \n",
       "0                 NaN                      NaN  \n",
       "1                 NaN                      NaN  \n",
       "2                 NaN                      NaN  \n",
       "3                 NaN                      NaN  \n",
       "4                 NaN                      NaN  \n",
       "\n",
       "[5 rows x 58 columns]"
      ]
     },
     "metadata": {},
     "output_type": "display_data"
    }
   ],
   "source": [
    "print(\"Item Daily Features Shape:\", item_daily_features.shape)\n",
    "print(\"\\nColumns:\", item_daily_features.columns.tolist())\n",
    "print(\"\\nSample data:\")\n",
    "display(item_daily_features.head())"
   ]
  },
  {
   "cell_type": "markdown",
   "id": "e101ecb8",
   "metadata": {},
   "source": [
    "### User Information"
   ]
  },
  {
   "cell_type": "code",
   "execution_count": 8,
   "id": "c3af43f2",
   "metadata": {},
   "outputs": [
    {
     "name": "stdout",
     "output_type": "stream",
     "text": [
      "User Features Shape: (7176, 31)\n",
      "\n",
      "Columns: ['user_id', 'user_active_degree', 'is_lowactive_period', 'is_live_streamer', 'is_video_author', 'follow_user_num', 'follow_user_num_range', 'fans_user_num', 'fans_user_num_range', 'friend_user_num', 'friend_user_num_range', 'register_days', 'register_days_range', 'onehot_feat0', 'onehot_feat1', 'onehot_feat2', 'onehot_feat3', 'onehot_feat4', 'onehot_feat5', 'onehot_feat6', 'onehot_feat7', 'onehot_feat8', 'onehot_feat9', 'onehot_feat10', 'onehot_feat11', 'onehot_feat12', 'onehot_feat13', 'onehot_feat14', 'onehot_feat15', 'onehot_feat16', 'onehot_feat17']\n",
      "\n",
      "Sample data:\n"
     ]
    },
    {
     "data": {
      "application/vnd.microsoft.datawrangler.viewer.v0+json": {
       "columns": [
        {
         "name": "index",
         "rawType": "int64",
         "type": "integer"
        },
        {
         "name": "user_id",
         "rawType": "int64",
         "type": "integer"
        },
        {
         "name": "user_active_degree",
         "rawType": "object",
         "type": "string"
        },
        {
         "name": "is_lowactive_period",
         "rawType": "int64",
         "type": "integer"
        },
        {
         "name": "is_live_streamer",
         "rawType": "int64",
         "type": "integer"
        },
        {
         "name": "is_video_author",
         "rawType": "int64",
         "type": "integer"
        },
        {
         "name": "follow_user_num",
         "rawType": "int64",
         "type": "integer"
        },
        {
         "name": "follow_user_num_range",
         "rawType": "object",
         "type": "string"
        },
        {
         "name": "fans_user_num",
         "rawType": "int64",
         "type": "integer"
        },
        {
         "name": "fans_user_num_range",
         "rawType": "object",
         "type": "string"
        },
        {
         "name": "friend_user_num",
         "rawType": "int64",
         "type": "integer"
        },
        {
         "name": "friend_user_num_range",
         "rawType": "object",
         "type": "string"
        },
        {
         "name": "register_days",
         "rawType": "int64",
         "type": "integer"
        },
        {
         "name": "register_days_range",
         "rawType": "object",
         "type": "string"
        },
        {
         "name": "onehot_feat0",
         "rawType": "int64",
         "type": "integer"
        },
        {
         "name": "onehot_feat1",
         "rawType": "int64",
         "type": "integer"
        },
        {
         "name": "onehot_feat2",
         "rawType": "int64",
         "type": "integer"
        },
        {
         "name": "onehot_feat3",
         "rawType": "int64",
         "type": "integer"
        },
        {
         "name": "onehot_feat4",
         "rawType": "float64",
         "type": "float"
        },
        {
         "name": "onehot_feat5",
         "rawType": "int64",
         "type": "integer"
        },
        {
         "name": "onehot_feat6",
         "rawType": "int64",
         "type": "integer"
        },
        {
         "name": "onehot_feat7",
         "rawType": "int64",
         "type": "integer"
        },
        {
         "name": "onehot_feat8",
         "rawType": "int64",
         "type": "integer"
        },
        {
         "name": "onehot_feat9",
         "rawType": "int64",
         "type": "integer"
        },
        {
         "name": "onehot_feat10",
         "rawType": "int64",
         "type": "integer"
        },
        {
         "name": "onehot_feat11",
         "rawType": "int64",
         "type": "integer"
        },
        {
         "name": "onehot_feat12",
         "rawType": "float64",
         "type": "float"
        },
        {
         "name": "onehot_feat13",
         "rawType": "float64",
         "type": "float"
        },
        {
         "name": "onehot_feat14",
         "rawType": "float64",
         "type": "float"
        },
        {
         "name": "onehot_feat15",
         "rawType": "float64",
         "type": "float"
        },
        {
         "name": "onehot_feat16",
         "rawType": "float64",
         "type": "float"
        },
        {
         "name": "onehot_feat17",
         "rawType": "float64",
         "type": "float"
        }
       ],
       "conversionMethod": "pd.DataFrame",
       "ref": "f7373bcf-48da-47d8-b8c5-edca04e5c580",
       "rows": [
        [
         "0",
         "0",
         "high_active",
         "0",
         "0",
         "0",
         "5",
         "(0,10]",
         "0",
         "0",
         "0",
         "0",
         "107",
         "61-90",
         "0",
         "1",
         "17",
         "638",
         "2.0",
         "0",
         "1",
         "6",
         "184",
         "6",
         "3",
         "0",
         "0.0",
         "0.0",
         "0.0",
         "0.0",
         "0.0",
         "0.0"
        ],
        [
         "1",
         "1",
         "full_active",
         "0",
         "0",
         "0",
         "386",
         "(250,500]",
         "4",
         "[1,10)",
         "2",
         "[1,5)",
         "327",
         "181-365",
         "0",
         "3",
         "25",
         "1021",
         "0.0",
         "0",
         "1",
         "6",
         "186",
         "6",
         "2",
         "0",
         "0.0",
         "0.0",
         "0.0",
         "0.0",
         "0.0",
         "0.0"
        ],
        [
         "2",
         "2",
         "full_active",
         "0",
         "0",
         "0",
         "27",
         "(10,50]",
         "0",
         "0",
         "0",
         "0",
         "116",
         "91-180",
         "0",
         "6",
         "8",
         "402",
         "0.0",
         "0",
         "0",
         "2",
         "51",
         "2",
         "3",
         "0",
         "0.0",
         "0.0",
         "0.0",
         "0.0",
         "0.0",
         "0.0"
        ],
        [
         "3",
         "3",
         "full_active",
         "0",
         "0",
         "0",
         "16",
         "(10,50]",
         "0",
         "0",
         "0",
         "0",
         "105",
         "61-90",
         "0",
         "1",
         "8",
         "281",
         "0.0",
         "0",
         "0",
         "34",
         "251",
         "3",
         "2",
         "0",
         "0.0",
         "0.0",
         "0.0",
         "0.0",
         "0.0",
         "0.0"
        ],
        [
         "4",
         "4",
         "full_active",
         "0",
         "0",
         "0",
         "122",
         "(100,150]",
         "4",
         "[1,10)",
         "0",
         "0",
         "225",
         "181-365",
         "0",
         "1",
         "8",
         "316",
         "1.0",
         "0",
         "1",
         "46",
         "99",
         "4",
         "2",
         "0",
         "0.0",
         "0.0",
         "0.0",
         "0.0",
         "0.0",
         "0.0"
        ]
       ],
       "shape": {
        "columns": 31,
        "rows": 5
       }
      },
      "text/html": [
       "<div>\n",
       "<style scoped>\n",
       "    .dataframe tbody tr th:only-of-type {\n",
       "        vertical-align: middle;\n",
       "    }\n",
       "\n",
       "    .dataframe tbody tr th {\n",
       "        vertical-align: top;\n",
       "    }\n",
       "\n",
       "    .dataframe thead th {\n",
       "        text-align: right;\n",
       "    }\n",
       "</style>\n",
       "<table border=\"1\" class=\"dataframe\">\n",
       "  <thead>\n",
       "    <tr style=\"text-align: right;\">\n",
       "      <th></th>\n",
       "      <th>user_id</th>\n",
       "      <th>user_active_degree</th>\n",
       "      <th>is_lowactive_period</th>\n",
       "      <th>is_live_streamer</th>\n",
       "      <th>is_video_author</th>\n",
       "      <th>follow_user_num</th>\n",
       "      <th>follow_user_num_range</th>\n",
       "      <th>fans_user_num</th>\n",
       "      <th>fans_user_num_range</th>\n",
       "      <th>friend_user_num</th>\n",
       "      <th>...</th>\n",
       "      <th>onehot_feat8</th>\n",
       "      <th>onehot_feat9</th>\n",
       "      <th>onehot_feat10</th>\n",
       "      <th>onehot_feat11</th>\n",
       "      <th>onehot_feat12</th>\n",
       "      <th>onehot_feat13</th>\n",
       "      <th>onehot_feat14</th>\n",
       "      <th>onehot_feat15</th>\n",
       "      <th>onehot_feat16</th>\n",
       "      <th>onehot_feat17</th>\n",
       "    </tr>\n",
       "  </thead>\n",
       "  <tbody>\n",
       "    <tr>\n",
       "      <th>0</th>\n",
       "      <td>0</td>\n",
       "      <td>high_active</td>\n",
       "      <td>0</td>\n",
       "      <td>0</td>\n",
       "      <td>0</td>\n",
       "      <td>5</td>\n",
       "      <td>(0,10]</td>\n",
       "      <td>0</td>\n",
       "      <td>0</td>\n",
       "      <td>0</td>\n",
       "      <td>...</td>\n",
       "      <td>184</td>\n",
       "      <td>6</td>\n",
       "      <td>3</td>\n",
       "      <td>0</td>\n",
       "      <td>0.0</td>\n",
       "      <td>0.0</td>\n",
       "      <td>0.0</td>\n",
       "      <td>0.0</td>\n",
       "      <td>0.0</td>\n",
       "      <td>0.0</td>\n",
       "    </tr>\n",
       "    <tr>\n",
       "      <th>1</th>\n",
       "      <td>1</td>\n",
       "      <td>full_active</td>\n",
       "      <td>0</td>\n",
       "      <td>0</td>\n",
       "      <td>0</td>\n",
       "      <td>386</td>\n",
       "      <td>(250,500]</td>\n",
       "      <td>4</td>\n",
       "      <td>[1,10)</td>\n",
       "      <td>2</td>\n",
       "      <td>...</td>\n",
       "      <td>186</td>\n",
       "      <td>6</td>\n",
       "      <td>2</td>\n",
       "      <td>0</td>\n",
       "      <td>0.0</td>\n",
       "      <td>0.0</td>\n",
       "      <td>0.0</td>\n",
       "      <td>0.0</td>\n",
       "      <td>0.0</td>\n",
       "      <td>0.0</td>\n",
       "    </tr>\n",
       "    <tr>\n",
       "      <th>2</th>\n",
       "      <td>2</td>\n",
       "      <td>full_active</td>\n",
       "      <td>0</td>\n",
       "      <td>0</td>\n",
       "      <td>0</td>\n",
       "      <td>27</td>\n",
       "      <td>(10,50]</td>\n",
       "      <td>0</td>\n",
       "      <td>0</td>\n",
       "      <td>0</td>\n",
       "      <td>...</td>\n",
       "      <td>51</td>\n",
       "      <td>2</td>\n",
       "      <td>3</td>\n",
       "      <td>0</td>\n",
       "      <td>0.0</td>\n",
       "      <td>0.0</td>\n",
       "      <td>0.0</td>\n",
       "      <td>0.0</td>\n",
       "      <td>0.0</td>\n",
       "      <td>0.0</td>\n",
       "    </tr>\n",
       "    <tr>\n",
       "      <th>3</th>\n",
       "      <td>3</td>\n",
       "      <td>full_active</td>\n",
       "      <td>0</td>\n",
       "      <td>0</td>\n",
       "      <td>0</td>\n",
       "      <td>16</td>\n",
       "      <td>(10,50]</td>\n",
       "      <td>0</td>\n",
       "      <td>0</td>\n",
       "      <td>0</td>\n",
       "      <td>...</td>\n",
       "      <td>251</td>\n",
       "      <td>3</td>\n",
       "      <td>2</td>\n",
       "      <td>0</td>\n",
       "      <td>0.0</td>\n",
       "      <td>0.0</td>\n",
       "      <td>0.0</td>\n",
       "      <td>0.0</td>\n",
       "      <td>0.0</td>\n",
       "      <td>0.0</td>\n",
       "    </tr>\n",
       "    <tr>\n",
       "      <th>4</th>\n",
       "      <td>4</td>\n",
       "      <td>full_active</td>\n",
       "      <td>0</td>\n",
       "      <td>0</td>\n",
       "      <td>0</td>\n",
       "      <td>122</td>\n",
       "      <td>(100,150]</td>\n",
       "      <td>4</td>\n",
       "      <td>[1,10)</td>\n",
       "      <td>0</td>\n",
       "      <td>...</td>\n",
       "      <td>99</td>\n",
       "      <td>4</td>\n",
       "      <td>2</td>\n",
       "      <td>0</td>\n",
       "      <td>0.0</td>\n",
       "      <td>0.0</td>\n",
       "      <td>0.0</td>\n",
       "      <td>0.0</td>\n",
       "      <td>0.0</td>\n",
       "      <td>0.0</td>\n",
       "    </tr>\n",
       "  </tbody>\n",
       "</table>\n",
       "<p>5 rows × 31 columns</p>\n",
       "</div>"
      ],
      "text/plain": [
       "   user_id user_active_degree  is_lowactive_period  is_live_streamer  \\\n",
       "0        0        high_active                    0                 0   \n",
       "1        1        full_active                    0                 0   \n",
       "2        2        full_active                    0                 0   \n",
       "3        3        full_active                    0                 0   \n",
       "4        4        full_active                    0                 0   \n",
       "\n",
       "   is_video_author  follow_user_num follow_user_num_range  fans_user_num  \\\n",
       "0                0                5                (0,10]              0   \n",
       "1                0              386             (250,500]              4   \n",
       "2                0               27               (10,50]              0   \n",
       "3                0               16               (10,50]              0   \n",
       "4                0              122             (100,150]              4   \n",
       "\n",
       "  fans_user_num_range  friend_user_num  ... onehot_feat8  onehot_feat9  \\\n",
       "0                   0                0  ...          184             6   \n",
       "1              [1,10)                2  ...          186             6   \n",
       "2                   0                0  ...           51             2   \n",
       "3                   0                0  ...          251             3   \n",
       "4              [1,10)                0  ...           99             4   \n",
       "\n",
       "  onehot_feat10  onehot_feat11  onehot_feat12  onehot_feat13  onehot_feat14  \\\n",
       "0             3              0            0.0            0.0            0.0   \n",
       "1             2              0            0.0            0.0            0.0   \n",
       "2             3              0            0.0            0.0            0.0   \n",
       "3             2              0            0.0            0.0            0.0   \n",
       "4             2              0            0.0            0.0            0.0   \n",
       "\n",
       "   onehot_feat15  onehot_feat16  onehot_feat17  \n",
       "0            0.0            0.0            0.0  \n",
       "1            0.0            0.0            0.0  \n",
       "2            0.0            0.0            0.0  \n",
       "3            0.0            0.0            0.0  \n",
       "4            0.0            0.0            0.0  \n",
       "\n",
       "[5 rows x 31 columns]"
      ]
     },
     "metadata": {},
     "output_type": "display_data"
    },
    {
     "name": "stdout",
     "output_type": "stream",
     "text": [
      "Distribution of user activity:\n",
      "user_active_degree\n",
      "full_active      6092\n",
      "high_active       938\n",
      "UNKNOWN           118\n",
      "middle_active      28\n",
      "Name: count, dtype: int64\n",
      "\n",
      "Number of user_id values: 7176\n"
     ]
    }
   ],
   "source": [
    "print(\"User Features Shape:\", user_features.shape)\n",
    "print(\"\\nColumns:\", user_features.columns.tolist())\n",
    "print(\"\\nSample data:\")\n",
    "display(user_features.head())\n",
    "\n",
    "print(\"Distribution of user activity:\")\n",
    "if 'user_active_degree' in user_features.columns:\n",
    "    print(user_features['user_active_degree'].value_counts())\n",
    "\n",
    "print(\"\\nNumber of user_id values:\", user_features['user_id'].nunique())"
   ]
  },
  {
   "cell_type": "code",
   "execution_count": 9,
   "id": "ff27f9ad",
   "metadata": {},
   "outputs": [
    {
     "name": "stdout",
     "output_type": "stream",
     "text": [
      "Social Network Shape: (472, 2)\n",
      "\n",
      "Columns: ['user_id', 'friend_list']\n",
      "\n",
      "Sample data:\n"
     ]
    },
    {
     "data": {
      "application/vnd.microsoft.datawrangler.viewer.v0+json": {
       "columns": [
        {
         "name": "index",
         "rawType": "int64",
         "type": "integer"
        },
        {
         "name": "user_id",
         "rawType": "int64",
         "type": "integer"
        },
        {
         "name": "friend_list",
         "rawType": "object",
         "type": "string"
        }
       ],
       "conversionMethod": "pd.DataFrame",
       "ref": "140efc07-4efa-4888-972d-93dd9e42cdb1",
       "rows": [
        [
         "0",
         "3371",
         "[2975]"
        ],
        [
         "1",
         "24",
         "[2665]"
        ],
        [
         "2",
         "4402",
         "[38]"
        ],
        [
         "3",
         "4295",
         "[4694]"
        ],
        [
         "4",
         "7087",
         "[7117]"
        ]
       ],
       "shape": {
        "columns": 2,
        "rows": 5
       }
      },
      "text/html": [
       "<div>\n",
       "<style scoped>\n",
       "    .dataframe tbody tr th:only-of-type {\n",
       "        vertical-align: middle;\n",
       "    }\n",
       "\n",
       "    .dataframe tbody tr th {\n",
       "        vertical-align: top;\n",
       "    }\n",
       "\n",
       "    .dataframe thead th {\n",
       "        text-align: right;\n",
       "    }\n",
       "</style>\n",
       "<table border=\"1\" class=\"dataframe\">\n",
       "  <thead>\n",
       "    <tr style=\"text-align: right;\">\n",
       "      <th></th>\n",
       "      <th>user_id</th>\n",
       "      <th>friend_list</th>\n",
       "    </tr>\n",
       "  </thead>\n",
       "  <tbody>\n",
       "    <tr>\n",
       "      <th>0</th>\n",
       "      <td>3371</td>\n",
       "      <td>[2975]</td>\n",
       "    </tr>\n",
       "    <tr>\n",
       "      <th>1</th>\n",
       "      <td>24</td>\n",
       "      <td>[2665]</td>\n",
       "    </tr>\n",
       "    <tr>\n",
       "      <th>2</th>\n",
       "      <td>4402</td>\n",
       "      <td>[38]</td>\n",
       "    </tr>\n",
       "    <tr>\n",
       "      <th>3</th>\n",
       "      <td>4295</td>\n",
       "      <td>[4694]</td>\n",
       "    </tr>\n",
       "    <tr>\n",
       "      <th>4</th>\n",
       "      <td>7087</td>\n",
       "      <td>[7117]</td>\n",
       "    </tr>\n",
       "  </tbody>\n",
       "</table>\n",
       "</div>"
      ],
      "text/plain": [
       "   user_id friend_list\n",
       "0     3371      [2975]\n",
       "1       24      [2665]\n",
       "2     4402        [38]\n",
       "3     4295      [4694]\n",
       "4     7087      [7117]"
      ]
     },
     "execution_count": 9,
     "metadata": {},
     "output_type": "execute_result"
    }
   ],
   "source": [
    "print(\"Social Network Shape:\", social_network.shape)\n",
    "print(\"\\nColumns:\", social_network.columns.tolist())\n",
    "print(\"\\nSample data:\")\n",
    "social_network.head()"
   ]
  },
  {
   "cell_type": "markdown",
   "id": "1f24f5b0",
   "metadata": {},
   "source": [
    "## Data Analysis\n",
    "Now let's perform a deeper analysis of the dataset.\n",
    "### Dataset Statistics\n",
    "Let's analyze the basic statistics of the dataset:"
   ]
  },
  {
   "cell_type": "code",
   "execution_count": 10,
   "id": "bfc04fc4",
   "metadata": {},
   "outputs": [
    {
     "name": "stdout",
     "output_type": "stream",
     "text": [
      "Number of unique users: 7176\n",
      "Number of unique videos: 10728\n",
      "Total number of interactions: 12530806\n",
      "User-item matrix density: 16.2771 %\n"
     ]
    }
   ],
   "source": [
    "print(\"Number of unique users:\", interactions_train['user_id'].nunique())\n",
    "print(\"Number of unique videos:\", interactions_train['video_id'].nunique())\n",
    "print(\"Total number of interactions:\", len(interactions_train))\n",
    "print(\"User-item matrix density:\", \n",
    "      round(len(interactions_train) / (interactions_train['user_id'].nunique() * interactions_train['video_id'].nunique()) * 100, 4), \"%\")"
   ]
  },
  {
   "cell_type": "code",
   "execution_count": 11,
   "id": "2a14874a",
   "metadata": {},
   "outputs": [
    {
     "name": "stdout",
     "output_type": "stream",
     "text": [
      "Number of unique users: 1411\n",
      "Number of unique videos: 3327\n",
      "Total number of interactions: 4676570\n",
      "User-item matrix density: 99.6202 %\n"
     ]
    }
   ],
   "source": [
    "print(\"Number of unique users:\", interactions_test['user_id'].nunique())\n",
    "print(\"Number of unique videos:\", interactions_test['video_id'].nunique())\n",
    "print(\"Total number of interactions:\", len(interactions_test))\n",
    "print(\"User-item matrix density:\", \n",
    "      round(len(interactions_test) / (interactions_test['user_id'].nunique() * interactions_test['video_id'].nunique()) * 100, 4), \"%\")"
   ]
  },
  {
   "cell_type": "code",
   "execution_count": 12,
   "id": "46ed9c44",
   "metadata": {},
   "outputs": [
    {
     "name": "stdout",
     "output_type": "stream",
     "text": [
      "\n",
      "Missing values in training interactions:\n"
     ]
    },
    {
     "data": {
      "application/vnd.microsoft.datawrangler.viewer.v0+json": {
       "columns": [
        {
         "name": "index",
         "rawType": "int64",
         "type": "integer"
        },
        {
         "name": "Dataset",
         "rawType": "object",
         "type": "string"
        },
        {
         "name": "Total Missing Values",
         "rawType": "int64",
         "type": "integer"
        },
        {
         "name": "Total Elements",
         "rawType": "int64",
         "type": "integer"
        },
        {
         "name": "Missing Percentage",
         "rawType": "float64",
         "type": "float"
        }
       ],
       "conversionMethod": "pd.DataFrame",
       "ref": "162bc20c-4974-448f-947f-5cfdd4d97b29",
       "rows": [
        [
         "0",
         "Training Interactions",
         "0",
         "100246448",
         "0.0"
        ],
        [
         "1",
         "Test Interactions",
         "545976",
         "37412560",
         "1.4593"
        ],
        [
         "2",
         "Caption & Category",
         "1392",
         "107320",
         "1.2971"
        ],
        [
         "3",
         "Item Categories",
         "0",
         "21456",
         "0.0"
        ],
        [
         "4",
         "Item Daily Features",
         "321764",
         "19913778",
         "1.6158"
        ],
        [
         "5",
         "Social Network",
         "0",
         "944",
         "0.0"
        ],
        [
         "6",
         "User Features",
         "650",
         "222456",
         "0.2922"
        ]
       ],
       "shape": {
        "columns": 4,
        "rows": 7
       }
      },
      "text/html": [
       "<div>\n",
       "<style scoped>\n",
       "    .dataframe tbody tr th:only-of-type {\n",
       "        vertical-align: middle;\n",
       "    }\n",
       "\n",
       "    .dataframe tbody tr th {\n",
       "        vertical-align: top;\n",
       "    }\n",
       "\n",
       "    .dataframe thead th {\n",
       "        text-align: right;\n",
       "    }\n",
       "</style>\n",
       "<table border=\"1\" class=\"dataframe\">\n",
       "  <thead>\n",
       "    <tr style=\"text-align: right;\">\n",
       "      <th></th>\n",
       "      <th>Dataset</th>\n",
       "      <th>Total Missing Values</th>\n",
       "      <th>Total Elements</th>\n",
       "      <th>Missing Percentage</th>\n",
       "    </tr>\n",
       "  </thead>\n",
       "  <tbody>\n",
       "    <tr>\n",
       "      <th>0</th>\n",
       "      <td>Training Interactions</td>\n",
       "      <td>0</td>\n",
       "      <td>100246448</td>\n",
       "      <td>0.0000</td>\n",
       "    </tr>\n",
       "    <tr>\n",
       "      <th>1</th>\n",
       "      <td>Test Interactions</td>\n",
       "      <td>545976</td>\n",
       "      <td>37412560</td>\n",
       "      <td>1.4593</td>\n",
       "    </tr>\n",
       "    <tr>\n",
       "      <th>2</th>\n",
       "      <td>Caption &amp; Category</td>\n",
       "      <td>1392</td>\n",
       "      <td>107320</td>\n",
       "      <td>1.2971</td>\n",
       "    </tr>\n",
       "    <tr>\n",
       "      <th>3</th>\n",
       "      <td>Item Categories</td>\n",
       "      <td>0</td>\n",
       "      <td>21456</td>\n",
       "      <td>0.0000</td>\n",
       "    </tr>\n",
       "    <tr>\n",
       "      <th>4</th>\n",
       "      <td>Item Daily Features</td>\n",
       "      <td>321764</td>\n",
       "      <td>19913778</td>\n",
       "      <td>1.6158</td>\n",
       "    </tr>\n",
       "    <tr>\n",
       "      <th>5</th>\n",
       "      <td>Social Network</td>\n",
       "      <td>0</td>\n",
       "      <td>944</td>\n",
       "      <td>0.0000</td>\n",
       "    </tr>\n",
       "    <tr>\n",
       "      <th>6</th>\n",
       "      <td>User Features</td>\n",
       "      <td>650</td>\n",
       "      <td>222456</td>\n",
       "      <td>0.2922</td>\n",
       "    </tr>\n",
       "  </tbody>\n",
       "</table>\n",
       "</div>"
      ],
      "text/plain": [
       "                 Dataset  Total Missing Values  Total Elements  \\\n",
       "0  Training Interactions                     0       100246448   \n",
       "1      Test Interactions                545976        37412560   \n",
       "2     Caption & Category                  1392          107320   \n",
       "3        Item Categories                     0           21456   \n",
       "4    Item Daily Features                321764        19913778   \n",
       "5         Social Network                     0             944   \n",
       "6          User Features                   650          222456   \n",
       "\n",
       "   Missing Percentage  \n",
       "0              0.0000  \n",
       "1              1.4593  \n",
       "2              1.2971  \n",
       "3              0.0000  \n",
       "4              1.6158  \n",
       "5              0.0000  \n",
       "6              0.2922  "
      ]
     },
     "execution_count": 12,
     "metadata": {},
     "output_type": "execute_result"
    }
   ],
   "source": [
    "# Check for missing values\n",
    "print(\"\\nMissing values in training interactions:\")\n",
    "datasets = {\n",
    "    \"Training Interactions\": interactions_train,\n",
    "    \"Test Interactions\": interactions_test,\n",
    "    \"Caption & Category\": kuairec_caption_category,\n",
    "    \"Item Categories\": item_categories,\n",
    "    \"Item Daily Features\": item_daily_features,\n",
    "    \"Social Network\": social_network,\n",
    "    \"User Features\": user_features\n",
    "}\n",
    "\n",
    "missing_values = pd.DataFrame({\n",
    "    'Dataset': list(datasets.keys()),\n",
    "    'Total Missing Values': [df.isnull().sum().sum() for df in datasets.values()],\n",
    "    'Total Elements': [df.size for df in datasets.values()],\n",
    "    'Missing Percentage': [round(df.isnull().sum().sum() / df.size * 100, 4) for df in datasets.values()]\n",
    "})\n",
    "\n",
    "missing_values"
   ]
  },
  {
   "cell_type": "markdown",
   "id": "fe75c6be",
   "metadata": {},
   "source": [
    "#### Interactions per User"
   ]
  },
  {
   "cell_type": "code",
   "execution_count": 13,
   "id": "79ba4d1b",
   "metadata": {},
   "outputs": [
    {
     "data": {
      "image/png": "[encoded data removed]",
      "text/plain": [
       "<Figure size 1200x600 with 1 Axes>"
      ]
     },
     "metadata": {},
     "output_type": "display_data"
    },
    {
     "data": {
      "image/png": "[encoded data removed]",
      "text/plain": [
       "<Figure size 1200x600 with 1 Axes>"
      ]
     },
     "metadata": {},
     "output_type": "display_data"
    }
   ],
   "source": [
    "# Plot log histogram of interactions per user\n",
    "# Get counts per user\n",
    "user_counts = interactions_train[\"user_id\"].value_counts()\n",
    "\n",
    "# Create histogram with log scale\n",
    "plt.figure(figsize=(12, 6))\n",
    "plt.hist(user_counts, bins=50, log=True)\n",
    "plt.title(\"Distribution of Interactions per User (Log Scale)\")\n",
    "plt.xlabel(\"Number of Interactions\")\n",
    "plt.ylabel(\"Count of Users (Log Scale)\")\n",
    "plt.grid(True, alpha=0.3)\n",
    "plt.show()\n",
    "\n",
    "# Also plot regular scale for comparison\n",
    "plt.figure(figsize=(12, 6))\n",
    "plt.hist(user_counts, bins=50)\n",
    "plt.title(\"Distribution of Interactions per User\")\n",
    "plt.xlabel(\"Number of Interactions\")\n",
    "plt.ylabel(\"Count of Users\")\n",
    "plt.grid(True, alpha=0.3)\n",
    "plt.show()"
   ]
  },
  {
   "cell_type": "markdown",
   "id": "0dfd75ab",
   "metadata": {},
   "source": [
    "### Video Popularity and User Activity Analysis\n",
    "Let's analyze video popularity and user activity:"
   ]
  },
  {
   "cell_type": "code",
   "execution_count": 14,
   "id": "23b29890",
   "metadata": {},
   "outputs": [
    {
     "data": {
      "application/vnd.microsoft.datawrangler.viewer.v0+json": {
       "columns": [
        {
         "name": "index",
         "rawType": "int64",
         "type": "integer"
        },
        {
         "name": "video_id",
         "rawType": "int64",
         "type": "integer"
        },
        {
         "name": "view_count",
         "rawType": "int64",
         "type": "integer"
        }
       ],
       "conversionMethod": "pd.DataFrame",
       "ref": "d6ad2f4b-9390-4cc1-a54a-b75cb3f0e473",
       "rows": [
        [
         "0",
         "8145",
         "27615"
        ],
        [
         "1",
         "1037",
         "12419"
        ],
        [
         "2",
         "9485",
         "11134"
        ],
        [
         "3",
         "10174",
         "10416"
        ],
        [
         "4",
         "7508",
         "9986"
        ],
        [
         "5",
         "10552",
         "9737"
        ],
        [
         "6",
         "4410",
         "9509"
        ],
        [
         "7",
         "8716",
         "8693"
        ],
        [
         "8",
         "1612",
         "8322"
        ],
        [
         "9",
         "3293",
         "8179"
        ]
       ],
       "shape": {
        "columns": 2,
        "rows": 10
       }
      },
      "text/html": [
       "<div>\n",
       "<style scoped>\n",
       "    .dataframe tbody tr th:only-of-type {\n",
       "        vertical-align: middle;\n",
       "    }\n",
       "\n",
       "    .dataframe tbody tr th {\n",
       "        vertical-align: top;\n",
       "    }\n",
       "\n",
       "    .dataframe thead th {\n",
       "        text-align: right;\n",
       "    }\n",
       "</style>\n",
       "<table border=\"1\" class=\"dataframe\">\n",
       "  <thead>\n",
       "    <tr style=\"text-align: right;\">\n",
       "      <th></th>\n",
       "      <th>video_id</th>\n",
       "      <th>view_count</th>\n",
       "    </tr>\n",
       "  </thead>\n",
       "  <tbody>\n",
       "    <tr>\n",
       "      <th>0</th>\n",
       "      <td>8145</td>\n",
       "      <td>27615</td>\n",
       "    </tr>\n",
       "    <tr>\n",
       "      <th>1</th>\n",
       "      <td>1037</td>\n",
       "      <td>12419</td>\n",
       "    </tr>\n",
       "    <tr>\n",
       "      <th>2</th>\n",
       "      <td>9485</td>\n",
       "      <td>11134</td>\n",
       "    </tr>\n",
       "    <tr>\n",
       "      <th>3</th>\n",
       "      <td>10174</td>\n",
       "      <td>10416</td>\n",
       "    </tr>\n",
       "    <tr>\n",
       "      <th>4</th>\n",
       "      <td>7508</td>\n",
       "      <td>9986</td>\n",
       "    </tr>\n",
       "    <tr>\n",
       "      <th>5</th>\n",
       "      <td>10552</td>\n",
       "      <td>9737</td>\n",
       "    </tr>\n",
       "    <tr>\n",
       "      <th>6</th>\n",
       "      <td>4410</td>\n",
       "      <td>9509</td>\n",
       "    </tr>\n",
       "    <tr>\n",
       "      <th>7</th>\n",
       "      <td>8716</td>\n",
       "      <td>8693</td>\n",
       "    </tr>\n",
       "    <tr>\n",
       "      <th>8</th>\n",
       "      <td>1612</td>\n",
       "      <td>8322</td>\n",
       "    </tr>\n",
       "    <tr>\n",
       "      <th>9</th>\n",
       "      <td>3293</td>\n",
       "      <td>8179</td>\n",
       "    </tr>\n",
       "  </tbody>\n",
       "</table>\n",
       "</div>"
      ],
      "text/plain": [
       "   video_id  view_count\n",
       "0      8145       27615\n",
       "1      1037       12419\n",
       "2      9485       11134\n",
       "3     10174       10416\n",
       "4      7508        9986\n",
       "5     10552        9737\n",
       "6      4410        9509\n",
       "7      8716        8693\n",
       "8      1612        8322\n",
       "9      3293        8179"
      ]
     },
     "execution_count": 14,
     "metadata": {},
     "output_type": "execute_result"
    }
   ],
   "source": [
    "# Top 10 most watched videos\n",
    "video_popularity = interactions_train.groupby('video_id').size().sort_values(ascending=False)\n",
    "top_videos = video_popularity.head(10).reset_index()\n",
    "top_videos.columns = ['video_id', 'view_count']\n",
    "top_videos"
   ]
  },
  {
   "cell_type": "code",
   "execution_count": 15,
   "id": "7c6d6316",
   "metadata": {},
   "outputs": [
    {
     "data": {
      "application/vnd.microsoft.datawrangler.viewer.v0+json": {
       "columns": [
        {
         "name": "index",
         "rawType": "int64",
         "type": "integer"
        },
        {
         "name": "user_id",
         "rawType": "int64",
         "type": "integer"
        },
        {
         "name": "activity_count",
         "rawType": "int64",
         "type": "integer"
        }
       ],
       "conversionMethod": "pd.DataFrame",
       "ref": "9985c876-544a-4c90-a7f1-cf23b569abc0",
       "rows": [
        [
         "0",
         "3133",
         "16015"
        ],
        [
         "1",
         "4247",
         "9372"
        ],
        [
         "2",
         "3586",
         "7171"
        ],
        [
         "3",
         "4117",
         "6036"
        ],
        [
         "4",
         "1092",
         "6012"
        ],
        [
         "5",
         "3287",
         "5737"
        ],
        [
         "6",
         "3655",
         "5667"
        ],
        [
         "7",
         "1657",
         "5656"
        ],
        [
         "8",
         "6792",
         "5539"
        ],
        [
         "9",
         "6468",
         "5449"
        ]
       ],
       "shape": {
        "columns": 2,
        "rows": 10
       }
      },
      "text/html": [
       "<div>\n",
       "<style scoped>\n",
       "    .dataframe tbody tr th:only-of-type {\n",
       "        vertical-align: middle;\n",
       "    }\n",
       "\n",
       "    .dataframe tbody tr th {\n",
       "        vertical-align: top;\n",
       "    }\n",
       "\n",
       "    .dataframe thead th {\n",
       "        text-align: right;\n",
       "    }\n",
       "</style>\n",
       "<table border=\"1\" class=\"dataframe\">\n",
       "  <thead>\n",
       "    <tr style=\"text-align: right;\">\n",
       "      <th></th>\n",
       "      <th>user_id</th>\n",
       "      <th>activity_count</th>\n",
       "    </tr>\n",
       "  </thead>\n",
       "  <tbody>\n",
       "    <tr>\n",
       "      <th>0</th>\n",
       "      <td>3133</td>\n",
       "      <td>16015</td>\n",
       "    </tr>\n",
       "    <tr>\n",
       "      <th>1</th>\n",
       "      <td>4247</td>\n",
       "      <td>9372</td>\n",
       "    </tr>\n",
       "    <tr>\n",
       "      <th>2</th>\n",
       "      <td>3586</td>\n",
       "      <td>7171</td>\n",
       "    </tr>\n",
       "    <tr>\n",
       "      <th>3</th>\n",
       "      <td>4117</td>\n",
       "      <td>6036</td>\n",
       "    </tr>\n",
       "    <tr>\n",
       "      <th>4</th>\n",
       "      <td>1092</td>\n",
       "      <td>6012</td>\n",
       "    </tr>\n",
       "    <tr>\n",
       "      <th>5</th>\n",
       "      <td>3287</td>\n",
       "      <td>5737</td>\n",
       "    </tr>\n",
       "    <tr>\n",
       "      <th>6</th>\n",
       "      <td>3655</td>\n",
       "      <td>5667</td>\n",
       "    </tr>\n",
       "    <tr>\n",
       "      <th>7</th>\n",
       "      <td>1657</td>\n",
       "      <td>5656</td>\n",
       "    </tr>\n",
       "    <tr>\n",
       "      <th>8</th>\n",
       "      <td>6792</td>\n",
       "      <td>5539</td>\n",
       "    </tr>\n",
       "    <tr>\n",
       "      <th>9</th>\n",
       "      <td>6468</td>\n",
       "      <td>5449</td>\n",
       "    </tr>\n",
       "  </tbody>\n",
       "</table>\n",
       "</div>"
      ],
      "text/plain": [
       "   user_id  activity_count\n",
       "0     3133           16015\n",
       "1     4247            9372\n",
       "2     3586            7171\n",
       "3     4117            6036\n",
       "4     1092            6012\n",
       "5     3287            5737\n",
       "6     3655            5667\n",
       "7     1657            5656\n",
       "8     6792            5539\n",
       "9     6468            5449"
      ]
     },
     "execution_count": 15,
     "metadata": {},
     "output_type": "execute_result"
    }
   ],
   "source": [
    "# Top 10 most active users\n",
    "user_activity = interactions_train.groupby('user_id').size().sort_values(ascending=False)\n",
    "top_users = user_activity.head(10).reset_index()\n",
    "top_users.columns = ['user_id', 'activity_count']\n",
    "top_users"
   ]
  },
  {
   "cell_type": "markdown",
   "id": "49f89966",
   "metadata": {},
   "source": [
    "### Watch Behavior Analysis\n",
    "Let's analyze the watching behavior of users:"
   ]
  },
  {
   "cell_type": "code",
   "execution_count": 16,
   "id": "0ab81af4",
   "metadata": {},
   "outputs": [
    {
     "data": {
      "image/png": "[encoded data removed]",
      "text/plain": [
       "<Figure size 800x400 with 1 Axes>"
      ]
     },
     "metadata": {},
     "output_type": "display_data"
    }
   ],
   "source": [
    "# Relationship between video duration and play duration\n",
    "plt.figure(figsize=(8, 4))\n",
    "sample = interactions_train.sample(1000, random_state=42)\n",
    "sns.scatterplot(data=sample, x='video_duration', y='play_duration', alpha=0.6)\n",
    "plt.title('Video Duration vs. Play Duration (Sample of 1000 Interactions)', fontsize=15)\n",
    "plt.xlabel('Video Duration (seconds)', fontsize=12)\n",
    "plt.ylabel('Play Duration (seconds)', fontsize=12)\n",
    "\n",
    "max_val = max(sample['video_duration'].max(), sample['play_duration'].max())\n",
    "plt.plot([0, max_val], [0, max_val], 'r--', alpha=0.5, label='Watch Ratio = 1')\n",
    "plt.legend()\n",
    "plt.tight_layout()\n",
    "plt.show()"
   ]
  },
  {
   "cell_type": "markdown",
   "id": "8b50e966",
   "metadata": {},
   "source": [
    "### Video Categories Analysis\n",
    "Let's analyze the distribution of video categories:"
   ]
  },
  {
   "cell_type": "code",
   "execution_count": 17,
   "id": "e01c0f12",
   "metadata": {},
   "outputs": [
    {
     "data": {
      "image/png": "[encoded data removed]",
      "text/plain": [
       "<Figure size 1400x700 with 1 Axes>"
      ]
     },
     "metadata": {},
     "output_type": "display_data"
    }
   ],
   "source": [
    "# Distribution of first-level categories\n",
    "if 'first_level_category_id' in kuairec_caption_category.columns:\n",
    "    category_counts = kuairec_caption_category['first_level_category_id'].value_counts().reset_index()\n",
    "    category_counts.columns = ['category', 'count']\n",
    "    \n",
    "    plt.figure(figsize=(14, 7))\n",
    "    sns.barplot(x='category', y='count', data=category_counts.head(15))\n",
    "    plt.title('Distribution of Top 15 First-Level Video Categories', fontsize=15)\n",
    "    plt.xlabel('Category', fontsize=12)\n",
    "    plt.ylabel('Count', fontsize=12)\n",
    "    plt.xticks(rotation=45, ha='right')\n",
    "    plt.tight_layout()\n",
    "    plt.show()"
   ]
  },
  {
   "cell_type": "markdown",
   "id": "e6da58af",
   "metadata": {},
   "source": [
    "### Engagement Metrics Analysis"
   ]
  },
  {
   "cell_type": "code",
   "execution_count": 18,
   "id": "7693747f",
   "metadata": {},
   "outputs": [
    {
     "data": {
      "application/vnd.microsoft.datawrangler.viewer.v0+json": {
       "columns": [
        {
         "name": "index",
         "rawType": "object",
         "type": "string"
        },
        {
         "name": "play_cnt",
         "rawType": "float64",
         "type": "float"
        },
        {
         "name": "like_cnt",
         "rawType": "float64",
         "type": "float"
        },
        {
         "name": "comment_cnt",
         "rawType": "float64",
         "type": "float"
        },
        {
         "name": "share_cnt",
         "rawType": "float64",
         "type": "float"
        }
       ],
       "conversionMethod": "pd.DataFrame",
       "ref": "5dd81d79-094e-4d5e-b67a-9224ea13a47c",
       "rows": [
        [
         "count",
         "343341.0",
         "343341.0",
         "343341.0",
         "343341.0"
        ],
        [
         "mean",
         "94187.81459540223",
         "2781.1086674763574",
         "130.48076402177426",
         "80.38086042738851"
        ],
        [
         "std",
         "593329.7844669477",
         "18696.029680208514",
         "1565.6101554046768",
         "1284.1731266547768"
        ],
        [
         "min",
         "0.0",
         "0.0",
         "0.0",
         "0.0"
        ],
        [
         "25%",
         "14.0",
         "0.0",
         "0.0",
         "0.0"
        ],
        [
         "50%",
         "628.0",
         "9.0",
         "0.0",
         "0.0"
        ],
        [
         "75%",
         "20671.0",
         "421.0",
         "9.0",
         "3.0"
        ],
        [
         "max",
         "41167951.0",
         "2673037.0",
         "182959.0",
         "299286.0"
        ]
       ],
       "shape": {
        "columns": 4,
        "rows": 8
       }
      },
      "text/html": [
       "<div>\n",
       "<style scoped>\n",
       "    .dataframe tbody tr th:only-of-type {\n",
       "        vertical-align: middle;\n",
       "    }\n",
       "\n",
       "    .dataframe tbody tr th {\n",
       "        vertical-align: top;\n",
       "    }\n",
       "\n",
       "    .dataframe thead th {\n",
       "        text-align: right;\n",
       "    }\n",
       "</style>\n",
       "<table border=\"1\" class=\"dataframe\">\n",
       "  <thead>\n",
       "    <tr style=\"text-align: right;\">\n",
       "      <th></th>\n",
       "      <th>play_cnt</th>\n",
       "      <th>like_cnt</th>\n",
       "      <th>comment_cnt</th>\n",
       "      <th>share_cnt</th>\n",
       "    </tr>\n",
       "  </thead>\n",
       "  <tbody>\n",
       "    <tr>\n",
       "      <th>count</th>\n",
       "      <td>3.433410e+05</td>\n",
       "      <td>3.433410e+05</td>\n",
       "      <td>343341.000000</td>\n",
       "      <td>343341.000000</td>\n",
       "    </tr>\n",
       "    <tr>\n",
       "      <th>mean</th>\n",
       "      <td>9.418781e+04</td>\n",
       "      <td>2.781109e+03</td>\n",
       "      <td>130.480764</td>\n",
       "      <td>80.380860</td>\n",
       "    </tr>\n",
       "    <tr>\n",
       "      <th>std</th>\n",
       "      <td>5.933298e+05</td>\n",
       "      <td>1.869603e+04</td>\n",
       "      <td>1565.610155</td>\n",
       "      <td>1284.173127</td>\n",
       "    </tr>\n",
       "    <tr>\n",
       "      <th>min</th>\n",
       "      <td>0.000000e+00</td>\n",
       "      <td>0.000000e+00</td>\n",
       "      <td>0.000000</td>\n",
       "      <td>0.000000</td>\n",
       "    </tr>\n",
       "    <tr>\n",
       "      <th>25%</th>\n",
       "      <td>1.400000e+01</td>\n",
       "      <td>0.000000e+00</td>\n",
       "      <td>0.000000</td>\n",
       "      <td>0.000000</td>\n",
       "    </tr>\n",
       "    <tr>\n",
       "      <th>50%</th>\n",
       "      <td>6.280000e+02</td>\n",
       "      <td>9.000000e+00</td>\n",
       "      <td>0.000000</td>\n",
       "      <td>0.000000</td>\n",
       "    </tr>\n",
       "    <tr>\n",
       "      <th>75%</th>\n",
       "      <td>2.067100e+04</td>\n",
       "      <td>4.210000e+02</td>\n",
       "      <td>9.000000</td>\n",
       "      <td>3.000000</td>\n",
       "    </tr>\n",
       "    <tr>\n",
       "      <th>max</th>\n",
       "      <td>4.116795e+07</td>\n",
       "      <td>2.673037e+06</td>\n",
       "      <td>182959.000000</td>\n",
       "      <td>299286.000000</td>\n",
       "    </tr>\n",
       "  </tbody>\n",
       "</table>\n",
       "</div>"
      ],
      "text/plain": [
       "           play_cnt      like_cnt    comment_cnt      share_cnt\n",
       "count  3.433410e+05  3.433410e+05  343341.000000  343341.000000\n",
       "mean   9.418781e+04  2.781109e+03     130.480764      80.380860\n",
       "std    5.933298e+05  1.869603e+04    1565.610155    1284.173127\n",
       "min    0.000000e+00  0.000000e+00       0.000000       0.000000\n",
       "25%    1.400000e+01  0.000000e+00       0.000000       0.000000\n",
       "50%    6.280000e+02  9.000000e+00       0.000000       0.000000\n",
       "75%    2.067100e+04  4.210000e+02       9.000000       3.000000\n",
       "max    4.116795e+07  2.673037e+06  182959.000000  299286.000000"
      ]
     },
     "execution_count": 18,
     "metadata": {},
     "output_type": "execute_result"
    }
   ],
   "source": [
    "# Analyze key engagement metrics\n",
    "engagement_cols = ['play_cnt', 'like_cnt', 'comment_cnt', 'share_cnt']\n",
    "engagement_metrics = item_daily_features[engagement_cols].describe()\n",
    "engagement_metrics"
   ]
  },
  {
   "cell_type": "code",
   "execution_count": 19,
   "id": "4dc0250a",
   "metadata": {},
   "outputs": [
    {
     "name": "stderr",
     "output_type": "stream",
     "text": [
      "/Users/lucasduport/miniconda3/envs/rs/lib/python3.9/site-packages/pandas/core/nanops.py:1016: RuntimeWarning: invalid value encountered in subtract\n",
      "  sqr = _ensure_numeric((avg - values) ** 2)\n",
      "/Users/lucasduport/miniconda3/envs/rs/lib/python3.9/site-packages/pandas/core/nanops.py:1016: RuntimeWarning: invalid value encountered in subtract\n",
      "  sqr = _ensure_numeric((avg - values) ** 2)\n",
      "/Users/lucasduport/miniconda3/envs/rs/lib/python3.9/site-packages/pandas/core/nanops.py:1016: RuntimeWarning: invalid value encountered in subtract\n",
      "  sqr = _ensure_numeric((avg - values) ** 2)\n",
      "/Users/lucasduport/miniconda3/envs/rs/lib/python3.9/site-packages/pandas/core/nanops.py:1016: RuntimeWarning: invalid value encountered in subtract\n",
      "  sqr = _ensure_numeric((avg - values) ** 2)\n"
     ]
    },
    {
     "data": {
      "image/png": "[encoded data removed]",
      "text/plain": [
       "<Figure size 1600x1000 with 4 Axes>"
      ]
     },
     "metadata": {},
     "output_type": "display_data"
    }
   ],
   "source": [
    "# Visualize engagement metrics distribution\n",
    "plt.figure(figsize=(16, 10))\n",
    "for i, col in enumerate(engagement_cols, 1):\n",
    "    plt.subplot(2, 2, i)\n",
    "    sns.histplot(item_daily_features[col], bins=30, kde=True, log_scale=True)\n",
    "    plt.title(f'Distribution of {col.replace(\"_\", \" \").title()}', fontsize=12)\n",
    "    plt.xlabel(col.replace(\"_\", \" \").title(), fontsize=10)\n",
    "    plt.ylabel('Frequency', fontsize=10)\n",
    "plt.tight_layout()\n",
    "plt.show()"
   ]
  },
  {
   "cell_type": "markdown",
   "id": "b3eb4fad",
   "metadata": {},
   "source": [
    "### Activity Patterns Analysis"
   ]
  },
  {
   "cell_type": "code",
   "execution_count": 20,
   "id": "a54e79bd",
   "metadata": {},
   "outputs": [
    {
     "name": "stdout",
     "output_type": "stream",
     "text": [
      "\n",
      "User activity degree counts:\n",
      "user_active_degree\n",
      "full_active      6092\n",
      "high_active       938\n",
      "UNKNOWN           118\n",
      "middle_active      28\n",
      "Name: count, dtype: int64\n"
     ]
    },
    {
     "name": "stderr",
     "output_type": "stream",
     "text": [
      "/var/folders/2w/4qqf8r510cx2s9p_s4gc5z9c0000gn/T/ipykernel_62793/3989021150.py:5: FutureWarning: \n",
      "\n",
      "Passing `palette` without assigning `hue` is deprecated and will be removed in v0.14.0. Assign the `x` variable to `hue` and set `legend=False` for the same effect.\n",
      "\n",
      "  sns.countplot(x='user_active_degree', data=user_features, order=user_features['user_active_degree'].value_counts().index, palette='pastel')\n"
     ]
    },
    {
     "data": {
      "image/png": "[encoded data removed]",
      "text/plain": [
       "<Figure size 700x400 with 1 Axes>"
      ]
     },
     "metadata": {},
     "output_type": "display_data"
    }
   ],
   "source": [
    "\n",
    "print(\"\\nUser activity degree counts:\")\n",
    "print(user_features['user_active_degree'].value_counts())\n",
    "\n",
    "plt.figure(figsize=(7,4))\n",
    "sns.countplot(x='user_active_degree', data=user_features, order=user_features['user_active_degree'].value_counts().index, palette='pastel')\n",
    "plt.title(\"User Activity Degree Distribution\")\n",
    "plt.xlabel(\"User Activity Degree\")\n",
    "plt.ylabel(\"Count\")\n",
    "plt.xticks(rotation=30)\n",
    "plt.show()"
   ]
  },
  {
   "cell_type": "markdown",
   "id": "20916b17",
   "metadata": {},
   "source": [
    "### Registration date"
   ]
  },
  {
   "cell_type": "code",
   "execution_count": 21,
   "id": "bbd46061",
   "metadata": {},
   "outputs": [
    {
     "data": {
      "image/png": "[encoded data removed]",
      "text/plain": [
       "<Figure size 700x400 with 1 Axes>"
      ]
     },
     "metadata": {},
     "output_type": "display_data"
    },
    {
     "name": "stdout",
     "output_type": "stream",
     "text": [
      "Register days - min: 0, max: 2245, mean: 296.79, median: 225.0\n"
     ]
    }
   ],
   "source": [
    "\n",
    "# 5. How long have users been registered?\n",
    "plt.figure(figsize=(7,4))\n",
    "sns.histplot(user_features['register_days'], bins=30, color='orange', edgecolor='black')\n",
    "plt.title(\"Distribution of Register Days\")\n",
    "plt.xlabel(\"Register Days\")\n",
    "plt.ylabel(\"Count\")\n",
    "plt.grid(True, alpha=0.3)\n",
    "plt.show()\n",
    "print(f\"Register days - min: {user_features['register_days'].min()}, max: {user_features['register_days'].max()}, mean: {user_features['register_days'].mean():.2f}, median: {user_features['register_days'].median()}\")\n"
   ]
  }
 ],
 "metadata": {
  "kernelspec": {
   "display_name": "rs",
   "language": "python",
   "name": "python3"
  },
  "language_info": {
   "codemirror_mode": {
    "name": "ipython",
    "version": 3
   },
   "file_extension": ".py",
   "mimetype": "text/x-python",
   "name": "python",
   "nbconvert_exporter": "python",
   "pygments_lexer": "ipython3",
   "version": "3.9.21"
  }
 },
 "nbformat": 4,
 "nbformat_minor": 5
}
