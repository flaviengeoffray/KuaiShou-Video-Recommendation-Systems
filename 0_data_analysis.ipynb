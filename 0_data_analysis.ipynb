{
 "cells": [
  {
   "cell_type": "code",
   "execution_count": 2,
   "id": "b0d9d124",
   "metadata": {},
   "outputs": [],
   "source": [
    "import pandas as pd\n",
    "import numpy as np\n",
    "import matplotlib.pyplot as plt\n",
    "import seaborn as sns\n",
    "import os\n",
    "from sklearn.metrics.pairwise import cosine_similarity\n",
    "from sklearn.preprocessing import StandardScaler, OneHotEncoder\n",
    "import pickle\n",
    "from tqdm import tqdm"
   ]
  },
  {
   "cell_type": "code",
   "execution_count": 3,
   "id": "97bec3b9",
   "metadata": {},
   "outputs": [],
   "source": [
    "# Charger les données\n",
    "interactions = pd.read_csv(\"data_final_project/KuaiRec 2.0/data/small_matrix.csv\")\n",
    "kuairec_caption_category = pd.read_csv(\n",
    "    \"data_final_project/KuaiRec 2.0/data/kuairec_caption_category.csv\",\n",
    "    engine=\"python\", sep=\",\", quotechar='\"', on_bad_lines='skip'\n",
    ")\n",
    "item_categories = pd.read_csv(\"data_final_project/KuaiRec 2.0/data/item_categories.csv\")\n",
    "item_daily_features = pd.read_csv(\"data_final_project/KuaiRec 2.0/data/item_daily_features.csv\")\n",
    "social_network = pd.read_csv(\"data_final_project/KuaiRec 2.0/data/social_network.csv\")\n",
    "user_features = pd.read_csv(\"data_final_project/KuaiRec 2.0/data/user_features.csv\")"
   ]
  },
  {
   "cell_type": "code",
   "execution_count": 33,
   "id": "2f1ab919",
   "metadata": {},
   "outputs": [
    {
     "name": "stdout",
     "output_type": "stream",
     "text": [
      "\n",
      "--- INTERACTIONS ---\n",
      "\n",
      "Dimensions: (4676570, 8)\n",
      "\n",
      "<class 'pandas.core.frame.DataFrame'>\n",
      "RangeIndex: 4676570 entries, 0 to 4676569\n",
      "Data columns (total 8 columns):\n",
      " #   Column          Dtype  \n",
      "---  ------          -----  \n",
      " 0   user_id         int64  \n",
      " 1   video_id        int64  \n",
      " 2   play_duration   int64  \n",
      " 3   video_duration  int64  \n",
      " 4   time            object \n",
      " 5   date            float64\n",
      " 6   timestamp       float64\n",
      " 7   watch_ratio     float64\n",
      "dtypes: float64(3), int64(4), object(1)\n",
      "memory usage: 285.4+ MB\n",
      "None\n",
      "\n",
      "\n",
      "Nb videos uniques: 3327\n",
      "Nb users uniques: 1411\n"
     ]
    }
   ],
   "source": [
    "# Explorer les données\n",
    "print(\"\\n--- INTERACTIONS ---\\n\")\n",
    "print(f\"Dimensions: {interactions.shape}\\n\")\n",
    "print(interactions.info())\n",
    "print(\"\\n\")\n",
    "print(\"Nb videos uniques:\", interactions['video_id'].nunique())\n",
    "print(\"Nb users uniques:\", interactions['user_id'].nunique())"
   ]
  },
  {
   "cell_type": "code",
   "execution_count": 26,
   "id": "bfc04fc4",
   "metadata": {},
   "outputs": [
    {
     "name": "stdout",
     "output_type": "stream",
     "text": [
      "\n",
      "--- ITEM_CATEGORIES ---\n",
      "\n",
      "Dimensions: (10728, 2)\n"
     ]
    },
    {
     "data": {
      "application/vnd.microsoft.datawrangler.viewer.v0+json": {
       "columns": [
        {
         "name": "index",
         "rawType": "int64",
         "type": "integer"
        },
        {
         "name": "video_id",
         "rawType": "int64",
         "type": "integer"
        },
        {
         "name": "feat",
         "rawType": "object",
         "type": "string"
        }
       ],
       "conversionMethod": "pd.DataFrame",
       "ref": "053c99b1-a830-407a-b381-7ff6600eacd8",
       "rows": [
        [
         "0",
         "0",
         "[8]"
        ],
        [
         "1",
         "1",
         "[27, 9]"
        ],
        [
         "2",
         "2",
         "[9]"
        ],
        [
         "3",
         "3",
         "[26]"
        ],
        [
         "4",
         "4",
         "[5]"
        ]
       ],
       "shape": {
        "columns": 2,
        "rows": 5
       }
      },
      "text/html": [
       "<div>\n",
       "<style scoped>\n",
       "    .dataframe tbody tr th:only-of-type {\n",
       "        vertical-align: middle;\n",
       "    }\n",
       "\n",
       "    .dataframe tbody tr th {\n",
       "        vertical-align: top;\n",
       "    }\n",
       "\n",
       "    .dataframe thead th {\n",
       "        text-align: right;\n",
       "    }\n",
       "</style>\n",
       "<table border=\"1\" class=\"dataframe\">\n",
       "  <thead>\n",
       "    <tr style=\"text-align: right;\">\n",
       "      <th></th>\n",
       "      <th>video_id</th>\n",
       "      <th>feat</th>\n",
       "    </tr>\n",
       "  </thead>\n",
       "  <tbody>\n",
       "    <tr>\n",
       "      <th>0</th>\n",
       "      <td>0</td>\n",
       "      <td>[8]</td>\n",
       "    </tr>\n",
       "    <tr>\n",
       "      <th>1</th>\n",
       "      <td>1</td>\n",
       "      <td>[27, 9]</td>\n",
       "    </tr>\n",
       "    <tr>\n",
       "      <th>2</th>\n",
       "      <td>2</td>\n",
       "      <td>[9]</td>\n",
       "    </tr>\n",
       "    <tr>\n",
       "      <th>3</th>\n",
       "      <td>3</td>\n",
       "      <td>[26]</td>\n",
       "    </tr>\n",
       "    <tr>\n",
       "      <th>4</th>\n",
       "      <td>4</td>\n",
       "      <td>[5]</td>\n",
       "    </tr>\n",
       "  </tbody>\n",
       "</table>\n",
       "</div>"
      ],
      "text/plain": [
       "   video_id     feat\n",
       "0         0      [8]\n",
       "1         1  [27, 9]\n",
       "2         2      [9]\n",
       "3         3     [26]\n",
       "4         4      [5]"
      ]
     },
     "metadata": {},
     "output_type": "display_data"
    },
    {
     "name": "stdout",
     "output_type": "stream",
     "text": [
      "Nb videos uniques: 10728\n"
     ]
    }
   ],
   "source": [
    "print(\"\\n--- ITEM_CATEGORIES ---\\n\")\n",
    "print(f\"Dimensions: {item_categories.shape}\")\n",
    "display(item_categories.head())\n",
    "print(\"Nb videos uniques:\", item_categories['video_id'].nunique())"
   ]
  },
  {
   "cell_type": "code",
   "execution_count": 27,
   "id": "505649d5",
   "metadata": {},
   "outputs": [
    {
     "name": "stdout",
     "output_type": "stream",
     "text": [
      "\n",
      "--- KUAIREC CAPTION CATEGORY ---\n",
      "\n",
      "Dimensions: (10732, 10)\n",
      "\n"
     ]
    },
    {
     "data": {
      "application/vnd.microsoft.datawrangler.viewer.v0+json": {
       "columns": [
        {
         "name": "index",
         "rawType": "int64",
         "type": "integer"
        },
        {
         "name": "video_id",
         "rawType": "object",
         "type": "string"
        },
        {
         "name": "manual_cover_text",
         "rawType": "object",
         "type": "string"
        },
        {
         "name": "caption",
         "rawType": "object",
         "type": "unknown"
        },
        {
         "name": "topic_tag",
         "rawType": "object",
         "type": "string"
        },
        {
         "name": "first_level_category_id",
         "rawType": "float64",
         "type": "float"
        },
        {
         "name": "first_level_category_name",
         "rawType": "object",
         "type": "string"
        },
        {
         "name": "second_level_category_id",
         "rawType": "float64",
         "type": "float"
        },
        {
         "name": "second_level_category_name",
         "rawType": "object",
         "type": "string"
        },
        {
         "name": "third_level_category_id",
         "rawType": "float64",
         "type": "float"
        },
        {
         "name": "third_level_category_name",
         "rawType": "object",
         "type": "string"
        }
       ],
       "conversionMethod": "pd.DataFrame",
       "ref": "e0728de2-2a38-475a-bc88-da4dac22ede4",
       "rows": [
        [
         "0",
         "0",
         "UNKNOWN",
         "精神小伙路难走 程哥你狗粮慢点撒",
         "[]",
         "8.0",
         "颜值",
         "673.0",
         "颜值随拍",
         "-124.0",
         "UNKNOWN"
        ],
        [
         "1",
         "1",
         "UNKNOWN",
         null,
         "[]",
         "27.0",
         "高新数码",
         "-124.0",
         "UNKNOWN",
         "-124.0",
         "UNKNOWN"
        ],
        [
         "2",
         "2",
         "UNKNOWN",
         "晚饭后，运动一下！",
         "[]",
         "9.0",
         "喜剧",
         "727.0",
         "搞笑互动",
         "-124.0",
         "UNKNOWN"
        ],
        [
         "3",
         "3",
         "UNKNOWN",
         "我平淡无奇，惊艳不了时光，温柔不了岁月，我只想漫无目的的走走，努力发笔小财，给自己买花 自己长大.",
         "[]",
         "26.0",
         "摄影",
         "686.0",
         "主题摄影",
         "2434.0",
         "景物摄影"
        ],
        [
         "4",
         "4",
         "五爱街最美美女 一天1q",
         "#搞笑 #感谢快手我要上热门 #五爱市场 这真是完美搭配啊！",
         "[五爱市场,感谢快手我要上热门,搞笑]",
         "5.0",
         "时尚",
         "737.0",
         "营销售卖",
         "2596.0",
         "女装"
        ]
       ],
       "shape": {
        "columns": 10,
        "rows": 5
       }
      },
      "text/html": [
       "<div>\n",
       "<style scoped>\n",
       "    .dataframe tbody tr th:only-of-type {\n",
       "        vertical-align: middle;\n",
       "    }\n",
       "\n",
       "    .dataframe tbody tr th {\n",
       "        vertical-align: top;\n",
       "    }\n",
       "\n",
       "    .dataframe thead th {\n",
       "        text-align: right;\n",
       "    }\n",
       "</style>\n",
       "<table border=\"1\" class=\"dataframe\">\n",
       "  <thead>\n",
       "    <tr style=\"text-align: right;\">\n",
       "      <th></th>\n",
       "      <th>video_id</th>\n",
       "      <th>manual_cover_text</th>\n",
       "      <th>caption</th>\n",
       "      <th>topic_tag</th>\n",
       "      <th>first_level_category_id</th>\n",
       "      <th>first_level_category_name</th>\n",
       "      <th>second_level_category_id</th>\n",
       "      <th>second_level_category_name</th>\n",
       "      <th>third_level_category_id</th>\n",
       "      <th>third_level_category_name</th>\n",
       "    </tr>\n",
       "  </thead>\n",
       "  <tbody>\n",
       "    <tr>\n",
       "      <th>0</th>\n",
       "      <td>0</td>\n",
       "      <td>UNKNOWN</td>\n",
       "      <td>精神小伙路难走 程哥你狗粮慢点撒</td>\n",
       "      <td>[]</td>\n",
       "      <td>8.0</td>\n",
       "      <td>颜值</td>\n",
       "      <td>673.0</td>\n",
       "      <td>颜值随拍</td>\n",
       "      <td>-124.0</td>\n",
       "      <td>UNKNOWN</td>\n",
       "    </tr>\n",
       "    <tr>\n",
       "      <th>1</th>\n",
       "      <td>1</td>\n",
       "      <td>UNKNOWN</td>\n",
       "      <td>NaN</td>\n",
       "      <td>[]</td>\n",
       "      <td>27.0</td>\n",
       "      <td>高新数码</td>\n",
       "      <td>-124.0</td>\n",
       "      <td>UNKNOWN</td>\n",
       "      <td>-124.0</td>\n",
       "      <td>UNKNOWN</td>\n",
       "    </tr>\n",
       "    <tr>\n",
       "      <th>2</th>\n",
       "      <td>2</td>\n",
       "      <td>UNKNOWN</td>\n",
       "      <td>晚饭后，运动一下！</td>\n",
       "      <td>[]</td>\n",
       "      <td>9.0</td>\n",
       "      <td>喜剧</td>\n",
       "      <td>727.0</td>\n",
       "      <td>搞笑互动</td>\n",
       "      <td>-124.0</td>\n",
       "      <td>UNKNOWN</td>\n",
       "    </tr>\n",
       "    <tr>\n",
       "      <th>3</th>\n",
       "      <td>3</td>\n",
       "      <td>UNKNOWN</td>\n",
       "      <td>我平淡无奇，惊艳不了时光，温柔不了岁月，我只想漫无目的的走走，努力发笔小财，给自己买花 自己长大.</td>\n",
       "      <td>[]</td>\n",
       "      <td>26.0</td>\n",
       "      <td>摄影</td>\n",
       "      <td>686.0</td>\n",
       "      <td>主题摄影</td>\n",
       "      <td>2434.0</td>\n",
       "      <td>景物摄影</td>\n",
       "    </tr>\n",
       "    <tr>\n",
       "      <th>4</th>\n",
       "      <td>4</td>\n",
       "      <td>五爱街最美美女 一天1q</td>\n",
       "      <td>#搞笑 #感谢快手我要上热门 #五爱市场 这真是完美搭配啊！</td>\n",
       "      <td>[五爱市场,感谢快手我要上热门,搞笑]</td>\n",
       "      <td>5.0</td>\n",
       "      <td>时尚</td>\n",
       "      <td>737.0</td>\n",
       "      <td>营销售卖</td>\n",
       "      <td>2596.0</td>\n",
       "      <td>女装</td>\n",
       "    </tr>\n",
       "  </tbody>\n",
       "</table>\n",
       "</div>"
      ],
      "text/plain": [
       "  video_id manual_cover_text  \\\n",
       "0        0           UNKNOWN   \n",
       "1        1           UNKNOWN   \n",
       "2        2           UNKNOWN   \n",
       "3        3           UNKNOWN   \n",
       "4        4      五爱街最美美女 一天1q   \n",
       "\n",
       "                                             caption            topic_tag  \\\n",
       "0                                   精神小伙路难走 程哥你狗粮慢点撒                   []   \n",
       "1                                                NaN                   []   \n",
       "2                                          晚饭后，运动一下！                   []   \n",
       "3  我平淡无奇，惊艳不了时光，温柔不了岁月，我只想漫无目的的走走，努力发笔小财，给自己买花 自己长大.                   []   \n",
       "4                     #搞笑 #感谢快手我要上热门 #五爱市场 这真是完美搭配啊！  [五爱市场,感谢快手我要上热门,搞笑]   \n",
       "\n",
       "   first_level_category_id first_level_category_name  \\\n",
       "0                      8.0                        颜值   \n",
       "1                     27.0                      高新数码   \n",
       "2                      9.0                        喜剧   \n",
       "3                     26.0                        摄影   \n",
       "4                      5.0                        时尚   \n",
       "\n",
       "   second_level_category_id second_level_category_name  \\\n",
       "0                     673.0                       颜值随拍   \n",
       "1                    -124.0                    UNKNOWN   \n",
       "2                     727.0                       搞笑互动   \n",
       "3                     686.0                       主题摄影   \n",
       "4                     737.0                       营销售卖   \n",
       "\n",
       "   third_level_category_id third_level_category_name  \n",
       "0                   -124.0                   UNKNOWN  \n",
       "1                   -124.0                   UNKNOWN  \n",
       "2                   -124.0                   UNKNOWN  \n",
       "3                   2434.0                      景物摄影  \n",
       "4                   2596.0                        女装  "
      ]
     },
     "metadata": {},
     "output_type": "display_data"
    },
    {
     "name": "stdout",
     "output_type": "stream",
     "text": [
      "\n",
      "\n",
      "Distribution des catégories principales:\n",
      "first_level_category_name\n",
      "民生资讯    1095\n",
      "时尚      1034\n",
      "其他       913\n",
      "颜值       824\n",
      "情感       532\n",
      "美食       475\n",
      "明星娱乐     471\n",
      "舞蹈       422\n",
      "生活       417\n",
      "自拍       379\n",
      "Name: count, dtype: int64\n",
      "\n",
      "\n",
      "video_id                       object\n",
      "manual_cover_text              object\n",
      "caption                        object\n",
      "topic_tag                      object\n",
      "first_level_category_id       float64\n",
      "first_level_category_name      object\n",
      "second_level_category_id      float64\n",
      "second_level_category_name     object\n",
      "third_level_category_id       float64\n",
      "third_level_category_name      object\n",
      "dtype: object\n",
      "\n",
      "Nb vidéos uniques: 10730\n"
     ]
    }
   ],
   "source": [
    "print(\"\\n--- KUAIREC CAPTION CATEGORY ---\\n\")\n",
    "print(f\"Dimensions: {kuairec_caption_category.shape}\\n\")\n",
    "display(kuairec_caption_category.head())\n",
    "print(\"\\n\")\n",
    "print(\"Distribution des catégories principales:\")\n",
    "if 'first_level_category_name' in kuairec_caption_category.columns:\n",
    "    print(kuairec_caption_category['first_level_category_name'].value_counts().head(10))\n",
    "\n",
    "print(\"\\n\")\n",
    "print(kuairec_caption_category.dtypes)\n",
    "print(\"\\nNb vidéos uniques:\", kuairec_caption_category['video_id'].nunique()) "
   ]
  },
  {
   "cell_type": "code",
   "execution_count": 28,
   "id": "7a71ffb7",
   "metadata": {},
   "outputs": [
    {
     "name": "stdout",
     "output_type": "stream",
     "text": [
      "\n",
      "--- ITEM DAILY FEATURES ---\n",
      "\n",
      "Dimensions: (343341, 58)\n"
     ]
    },
    {
     "data": {
      "application/vnd.microsoft.datawrangler.viewer.v0+json": {
       "columns": [
        {
         "name": "index",
         "rawType": "int64",
         "type": "integer"
        },
        {
         "name": "video_id",
         "rawType": "int64",
         "type": "integer"
        },
        {
         "name": "date",
         "rawType": "int64",
         "type": "integer"
        },
        {
         "name": "author_id",
         "rawType": "int64",
         "type": "integer"
        },
        {
         "name": "video_type",
         "rawType": "object",
         "type": "string"
        },
        {
         "name": "upload_dt",
         "rawType": "object",
         "type": "string"
        },
        {
         "name": "upload_type",
         "rawType": "object",
         "type": "string"
        },
        {
         "name": "visible_status",
         "rawType": "object",
         "type": "string"
        },
        {
         "name": "video_duration",
         "rawType": "float64",
         "type": "float"
        },
        {
         "name": "video_width",
         "rawType": "int64",
         "type": "integer"
        },
        {
         "name": "video_height",
         "rawType": "int64",
         "type": "integer"
        },
        {
         "name": "music_id",
         "rawType": "int64",
         "type": "integer"
        },
        {
         "name": "video_tag_id",
         "rawType": "int64",
         "type": "integer"
        },
        {
         "name": "video_tag_name",
         "rawType": "object",
         "type": "string"
        },
        {
         "name": "show_cnt",
         "rawType": "int64",
         "type": "integer"
        },
        {
         "name": "show_user_num",
         "rawType": "int64",
         "type": "integer"
        },
        {
         "name": "play_cnt",
         "rawType": "int64",
         "type": "integer"
        },
        {
         "name": "play_user_num",
         "rawType": "int64",
         "type": "integer"
        },
        {
         "name": "play_duration",
         "rawType": "int64",
         "type": "integer"
        },
        {
         "name": "complete_play_cnt",
         "rawType": "int64",
         "type": "integer"
        },
        {
         "name": "complete_play_user_num",
         "rawType": "int64",
         "type": "integer"
        },
        {
         "name": "valid_play_cnt",
         "rawType": "int64",
         "type": "integer"
        },
        {
         "name": "valid_play_user_num",
         "rawType": "int64",
         "type": "integer"
        },
        {
         "name": "long_time_play_cnt",
         "rawType": "int64",
         "type": "integer"
        },
        {
         "name": "long_time_play_user_num",
         "rawType": "int64",
         "type": "integer"
        },
        {
         "name": "short_time_play_cnt",
         "rawType": "int64",
         "type": "integer"
        },
        {
         "name": "short_time_play_user_num",
         "rawType": "int64",
         "type": "integer"
        },
        {
         "name": "play_progress",
         "rawType": "float64",
         "type": "float"
        },
        {
         "name": "comment_stay_duration",
         "rawType": "int64",
         "type": "integer"
        },
        {
         "name": "like_cnt",
         "rawType": "int64",
         "type": "integer"
        },
        {
         "name": "like_user_num",
         "rawType": "int64",
         "type": "integer"
        },
        {
         "name": "click_like_cnt",
         "rawType": "int64",
         "type": "integer"
        },
        {
         "name": "double_click_cnt",
         "rawType": "int64",
         "type": "integer"
        },
        {
         "name": "cancel_like_cnt",
         "rawType": "int64",
         "type": "integer"
        },
        {
         "name": "cancel_like_user_num",
         "rawType": "int64",
         "type": "integer"
        },
        {
         "name": "comment_cnt",
         "rawType": "int64",
         "type": "integer"
        },
        {
         "name": "comment_user_num",
         "rawType": "int64",
         "type": "integer"
        },
        {
         "name": "direct_comment_cnt",
         "rawType": "int64",
         "type": "integer"
        },
        {
         "name": "reply_comment_cnt",
         "rawType": "int64",
         "type": "integer"
        },
        {
         "name": "delete_comment_cnt",
         "rawType": "int64",
         "type": "integer"
        },
        {
         "name": "delete_comment_user_num",
         "rawType": "int64",
         "type": "integer"
        },
        {
         "name": "comment_like_cnt",
         "rawType": "int64",
         "type": "integer"
        },
        {
         "name": "comment_like_user_num",
         "rawType": "int64",
         "type": "integer"
        },
        {
         "name": "follow_cnt",
         "rawType": "int64",
         "type": "integer"
        },
        {
         "name": "follow_user_num",
         "rawType": "int64",
         "type": "integer"
        },
        {
         "name": "cancel_follow_cnt",
         "rawType": "int64",
         "type": "integer"
        },
        {
         "name": "cancel_follow_user_num",
         "rawType": "int64",
         "type": "integer"
        },
        {
         "name": "share_cnt",
         "rawType": "int64",
         "type": "integer"
        },
        {
         "name": "share_user_num",
         "rawType": "int64",
         "type": "integer"
        },
        {
         "name": "download_cnt",
         "rawType": "int64",
         "type": "integer"
        },
        {
         "name": "download_user_num",
         "rawType": "int64",
         "type": "integer"
        },
        {
         "name": "report_cnt",
         "rawType": "int64",
         "type": "integer"
        },
        {
         "name": "report_user_num",
         "rawType": "int64",
         "type": "integer"
        },
        {
         "name": "reduce_similar_cnt",
         "rawType": "int64",
         "type": "integer"
        },
        {
         "name": "reduce_similar_user_num",
         "rawType": "int64",
         "type": "integer"
        },
        {
         "name": "collect_cnt",
         "rawType": "float64",
         "type": "float"
        },
        {
         "name": "collect_user_num",
         "rawType": "float64",
         "type": "float"
        },
        {
         "name": "cancel_collect_cnt",
         "rawType": "float64",
         "type": "float"
        },
        {
         "name": "cancel_collect_user_num",
         "rawType": "float64",
         "type": "float"
        }
       ],
       "conversionMethod": "pd.DataFrame",
       "ref": "cdfb6500-2ef9-4d81-9a37-f61bbb12364c",
       "rows": [
        [
         "0",
         "0",
         "20200705",
         "3309",
         "NORMAL",
         "2020-03-30",
         "ShortImport",
         "public",
         "5966.0",
         "720",
         "1280",
         "3350323409",
         "841",
         "建筑",
         "14665",
         "11372",
         "10141",
         "7485",
         "88729488",
         "5657",
         "4834",
         "5503",
         "4775",
         "5503",
         "4775",
         "1939",
         "1481",
         "0.7998600086607257",
         "6629173",
         "573",
         "569",
         "315",
         "257",
         "87",
         "85",
         "11",
         "11",
         "8",
         "3",
         "0",
         "0",
         "112",
         "61",
         "284",
         "284",
         "0",
         "0",
         "2",
         "2",
         "8",
         "8",
         "0",
         "0",
         "3",
         "3",
         null,
         null,
         null,
         null
        ],
        [
         "1",
         "0",
         "20200706",
         "3309",
         "NORMAL",
         "2020-03-30",
         "ShortImport",
         "public",
         "5966.0",
         "720",
         "1280",
         "3350323409",
         "841",
         "建筑",
         "10883",
         "8513",
         "7321",
         "5490",
         "64264607",
         "4162",
         "3522",
         "4039",
         "3468",
         "4039",
         "3468",
         "1340",
         "1040",
         "0.8052530649367682",
         "3997498",
         "302",
         "301",
         "159",
         "142",
         "47",
         "47",
         "7",
         "7",
         "6",
         "1",
         "0",
         "0",
         "60",
         "32",
         "201",
         "200",
         "0",
         "0",
         "1",
         "1",
         "2",
         "2",
         "0",
         "0",
         "5",
         "5",
         null,
         null,
         null,
         null
        ],
        [
         "2",
         "0",
         "20200707",
         "3309",
         "NORMAL",
         "2020-03-30",
         "ShortImport",
         "public",
         "5966.0",
         "720",
         "1280",
         "3350323409",
         "841",
         "建筑",
         "7842",
         "6281",
         "4757",
         "3724",
         "41338741",
         "2734",
         "2403",
         "2640",
         "2376",
         "2640",
         "2376",
         "866",
         "683",
         "0.808821205114609",
         "3314323",
         "205",
         "205",
         "121",
         "84",
         "52",
         "50",
         "4",
         "3",
         "3",
         "1",
         "0",
         "0",
         "59",
         "26",
         "131",
         "131",
         "0",
         "0",
         "1",
         "1",
         "2",
         "2",
         "0",
         "0",
         "0",
         "0",
         null,
         null,
         null,
         null
        ],
        [
         "3",
         "0",
         "20200708",
         "3309",
         "NORMAL",
         "2020-03-30",
         "ShortImport",
         "public",
         "5966.0",
         "720",
         "1280",
         "3350323409",
         "841",
         "建筑",
         "8916",
         "7229",
         "5172",
         "3961",
         "45281254",
         "2950",
         "2525",
         "2865",
         "2498",
         "2865",
         "2498",
         "977",
         "765",
         "0.8016798255988417",
         "4235579",
         "297",
         "293",
         "178",
         "119",
         "60",
         "59",
         "4",
         "4",
         "2",
         "2",
         "0",
         "0",
         "91",
         "46",
         "179",
         "179",
         "0",
         "0",
         "2",
         "2",
         "3",
         "3",
         "0",
         "0",
         "3",
         "3",
         null,
         null,
         null,
         null
        ],
        [
         "4",
         "0",
         "20200709",
         "3309",
         "NORMAL",
         "2020-03-30",
         "ShortImport",
         "public",
         "5966.0",
         "720",
         "1280",
         "3350323409",
         "841",
         "建筑",
         "8502",
         "6658",
         "5392",
         "3946",
         "46952744",
         "3058",
         "2566",
         "2946",
         "2533",
         "2945",
         "2532",
         "1046",
         "752",
         "0.8053588063278823",
         "3862095",
         "307",
         "305",
         "166",
         "141",
         "57",
         "56",
         "5",
         "2",
         "0",
         "5",
         "0",
         "0",
         "76",
         "47",
         "186",
         "186",
         "0",
         "0",
         "0",
         "0",
         "2",
         "2",
         "2",
         "1",
         "1",
         "1",
         null,
         null,
         null,
         null
        ]
       ],
       "shape": {
        "columns": 58,
        "rows": 5
       }
      },
      "text/html": [
       "<div>\n",
       "<style scoped>\n",
       "    .dataframe tbody tr th:only-of-type {\n",
       "        vertical-align: middle;\n",
       "    }\n",
       "\n",
       "    .dataframe tbody tr th {\n",
       "        vertical-align: top;\n",
       "    }\n",
       "\n",
       "    .dataframe thead th {\n",
       "        text-align: right;\n",
       "    }\n",
       "</style>\n",
       "<table border=\"1\" class=\"dataframe\">\n",
       "  <thead>\n",
       "    <tr style=\"text-align: right;\">\n",
       "      <th></th>\n",
       "      <th>video_id</th>\n",
       "      <th>date</th>\n",
       "      <th>author_id</th>\n",
       "      <th>video_type</th>\n",
       "      <th>upload_dt</th>\n",
       "      <th>upload_type</th>\n",
       "      <th>visible_status</th>\n",
       "      <th>video_duration</th>\n",
       "      <th>video_width</th>\n",
       "      <th>video_height</th>\n",
       "      <th>...</th>\n",
       "      <th>download_cnt</th>\n",
       "      <th>download_user_num</th>\n",
       "      <th>report_cnt</th>\n",
       "      <th>report_user_num</th>\n",
       "      <th>reduce_similar_cnt</th>\n",
       "      <th>reduce_similar_user_num</th>\n",
       "      <th>collect_cnt</th>\n",
       "      <th>collect_user_num</th>\n",
       "      <th>cancel_collect_cnt</th>\n",
       "      <th>cancel_collect_user_num</th>\n",
       "    </tr>\n",
       "  </thead>\n",
       "  <tbody>\n",
       "    <tr>\n",
       "      <th>0</th>\n",
       "      <td>0</td>\n",
       "      <td>20200705</td>\n",
       "      <td>3309</td>\n",
       "      <td>NORMAL</td>\n",
       "      <td>2020-03-30</td>\n",
       "      <td>ShortImport</td>\n",
       "      <td>public</td>\n",
       "      <td>5966.0</td>\n",
       "      <td>720</td>\n",
       "      <td>1280</td>\n",
       "      <td>...</td>\n",
       "      <td>8</td>\n",
       "      <td>8</td>\n",
       "      <td>0</td>\n",
       "      <td>0</td>\n",
       "      <td>3</td>\n",
       "      <td>3</td>\n",
       "      <td>NaN</td>\n",
       "      <td>NaN</td>\n",
       "      <td>NaN</td>\n",
       "      <td>NaN</td>\n",
       "    </tr>\n",
       "    <tr>\n",
       "      <th>1</th>\n",
       "      <td>0</td>\n",
       "      <td>20200706</td>\n",
       "      <td>3309</td>\n",
       "      <td>NORMAL</td>\n",
       "      <td>2020-03-30</td>\n",
       "      <td>ShortImport</td>\n",
       "      <td>public</td>\n",
       "      <td>5966.0</td>\n",
       "      <td>720</td>\n",
       "      <td>1280</td>\n",
       "      <td>...</td>\n",
       "      <td>2</td>\n",
       "      <td>2</td>\n",
       "      <td>0</td>\n",
       "      <td>0</td>\n",
       "      <td>5</td>\n",
       "      <td>5</td>\n",
       "      <td>NaN</td>\n",
       "      <td>NaN</td>\n",
       "      <td>NaN</td>\n",
       "      <td>NaN</td>\n",
       "    </tr>\n",
       "    <tr>\n",
       "      <th>2</th>\n",
       "      <td>0</td>\n",
       "      <td>20200707</td>\n",
       "      <td>3309</td>\n",
       "      <td>NORMAL</td>\n",
       "      <td>2020-03-30</td>\n",
       "      <td>ShortImport</td>\n",
       "      <td>public</td>\n",
       "      <td>5966.0</td>\n",
       "      <td>720</td>\n",
       "      <td>1280</td>\n",
       "      <td>...</td>\n",
       "      <td>2</td>\n",
       "      <td>2</td>\n",
       "      <td>0</td>\n",
       "      <td>0</td>\n",
       "      <td>0</td>\n",
       "      <td>0</td>\n",
       "      <td>NaN</td>\n",
       "      <td>NaN</td>\n",
       "      <td>NaN</td>\n",
       "      <td>NaN</td>\n",
       "    </tr>\n",
       "    <tr>\n",
       "      <th>3</th>\n",
       "      <td>0</td>\n",
       "      <td>20200708</td>\n",
       "      <td>3309</td>\n",
       "      <td>NORMAL</td>\n",
       "      <td>2020-03-30</td>\n",
       "      <td>ShortImport</td>\n",
       "      <td>public</td>\n",
       "      <td>5966.0</td>\n",
       "      <td>720</td>\n",
       "      <td>1280</td>\n",
       "      <td>...</td>\n",
       "      <td>3</td>\n",
       "      <td>3</td>\n",
       "      <td>0</td>\n",
       "      <td>0</td>\n",
       "      <td>3</td>\n",
       "      <td>3</td>\n",
       "      <td>NaN</td>\n",
       "      <td>NaN</td>\n",
       "      <td>NaN</td>\n",
       "      <td>NaN</td>\n",
       "    </tr>\n",
       "    <tr>\n",
       "      <th>4</th>\n",
       "      <td>0</td>\n",
       "      <td>20200709</td>\n",
       "      <td>3309</td>\n",
       "      <td>NORMAL</td>\n",
       "      <td>2020-03-30</td>\n",
       "      <td>ShortImport</td>\n",
       "      <td>public</td>\n",
       "      <td>5966.0</td>\n",
       "      <td>720</td>\n",
       "      <td>1280</td>\n",
       "      <td>...</td>\n",
       "      <td>2</td>\n",
       "      <td>2</td>\n",
       "      <td>2</td>\n",
       "      <td>1</td>\n",
       "      <td>1</td>\n",
       "      <td>1</td>\n",
       "      <td>NaN</td>\n",
       "      <td>NaN</td>\n",
       "      <td>NaN</td>\n",
       "      <td>NaN</td>\n",
       "    </tr>\n",
       "  </tbody>\n",
       "</table>\n",
       "<p>5 rows × 58 columns</p>\n",
       "</div>"
      ],
      "text/plain": [
       "   video_id      date  author_id video_type   upload_dt  upload_type  \\\n",
       "0         0  20200705       3309     NORMAL  2020-03-30  ShortImport   \n",
       "1         0  20200706       3309     NORMAL  2020-03-30  ShortImport   \n",
       "2         0  20200707       3309     NORMAL  2020-03-30  ShortImport   \n",
       "3         0  20200708       3309     NORMAL  2020-03-30  ShortImport   \n",
       "4         0  20200709       3309     NORMAL  2020-03-30  ShortImport   \n",
       "\n",
       "  visible_status  video_duration  video_width  video_height  ...  \\\n",
       "0         public          5966.0          720          1280  ...   \n",
       "1         public          5966.0          720          1280  ...   \n",
       "2         public          5966.0          720          1280  ...   \n",
       "3         public          5966.0          720          1280  ...   \n",
       "4         public          5966.0          720          1280  ...   \n",
       "\n",
       "   download_cnt  download_user_num report_cnt  report_user_num  \\\n",
       "0             8                  8          0                0   \n",
       "1             2                  2          0                0   \n",
       "2             2                  2          0                0   \n",
       "3             3                  3          0                0   \n",
       "4             2                  2          2                1   \n",
       "\n",
       "   reduce_similar_cnt  reduce_similar_user_num  collect_cnt  collect_user_num  \\\n",
       "0                   3                        3          NaN               NaN   \n",
       "1                   5                        5          NaN               NaN   \n",
       "2                   0                        0          NaN               NaN   \n",
       "3                   3                        3          NaN               NaN   \n",
       "4                   1                        1          NaN               NaN   \n",
       "\n",
       "   cancel_collect_cnt  cancel_collect_user_num  \n",
       "0                 NaN                      NaN  \n",
       "1                 NaN                      NaN  \n",
       "2                 NaN                      NaN  \n",
       "3                 NaN                      NaN  \n",
       "4                 NaN                      NaN  \n",
       "\n",
       "[5 rows x 58 columns]"
      ]
     },
     "metadata": {},
     "output_type": "display_data"
    },
    {
     "name": "stdout",
     "output_type": "stream",
     "text": [
      "Métriques d'engagement moyennes:\n",
      "           play_cnt      like_cnt    comment_cnt      share_cnt\n",
      "count  3.433410e+05  3.433410e+05  343341.000000  343341.000000\n",
      "mean   9.418781e+04  2.781109e+03     130.480764      80.380860\n",
      "std    5.933298e+05  1.869603e+04    1565.610155    1284.173127\n",
      "min    0.000000e+00  0.000000e+00       0.000000       0.000000\n",
      "25%    1.400000e+01  0.000000e+00       0.000000       0.000000\n",
      "50%    6.280000e+02  9.000000e+00       0.000000       0.000000\n",
      "75%    2.067100e+04  4.210000e+02       9.000000       3.000000\n",
      "max    4.116795e+07  2.673037e+06  182959.000000  299286.000000\n",
      "\n",
      "Nb valeurs de video_id: 10728\n"
     ]
    }
   ],
   "source": [
    "print(\"\\n--- ITEM DAILY FEATURES ---\\n\")\n",
    "print(f\"Dimensions: {item_daily_features.shape}\")\n",
    "display(item_daily_features.head())\n",
    "print(\"Métriques d'engagement moyennes:\")\n",
    "engagement_cols = ['play_cnt', 'like_cnt', 'comment_cnt', 'share_cnt']\n",
    "print(item_daily_features[engagement_cols].describe())\n",
    "\n",
    "print(\"\\nNb valeurs de video_id:\", item_daily_features['video_id'].nunique())"
   ]
  },
  {
   "cell_type": "code",
   "execution_count": 30,
   "id": "9f2cb54f",
   "metadata": {},
   "outputs": [
    {
     "name": "stdout",
     "output_type": "stream",
     "text": [
      "\n",
      "--- SOCIAL NETWORK ---\n",
      "\n",
      "Dimensions: (472, 2)\n"
     ]
    },
    {
     "data": {
      "application/vnd.microsoft.datawrangler.viewer.v0+json": {
       "columns": [
        {
         "name": "index",
         "rawType": "int64",
         "type": "integer"
        },
        {
         "name": "user_id",
         "rawType": "int64",
         "type": "integer"
        },
        {
         "name": "friend_list",
         "rawType": "object",
         "type": "string"
        }
       ],
       "conversionMethod": "pd.DataFrame",
       "ref": "5948029c-7450-4c63-9c54-5c8477d3253f",
       "rows": [
        [
         "0",
         "3371",
         "[2975]"
        ],
        [
         "1",
         "24",
         "[2665]"
        ],
        [
         "2",
         "4402",
         "[38]"
        ],
        [
         "3",
         "4295",
         "[4694]"
        ],
        [
         "4",
         "7087",
         "[7117]"
        ],
        [
         "5",
         "3981",
         "[3937]"
        ],
        [
         "6",
         "676",
         "[5626]"
        ],
        [
         "7",
         "6509",
         "[2257]"
        ],
        [
         "8",
         "5119",
         "[6845]"
        ],
        [
         "9",
         "2729",
         "[6802]"
        ],
        [
         "10",
         "578",
         "[1848, 6260]"
        ],
        [
         "11",
         "6055",
         "[730, 1103]"
        ],
        [
         "12",
         "670",
         "[3732]"
        ],
        [
         "13",
         "1796",
         "[2876]"
        ],
        [
         "14",
         "3773",
         "[6147]"
        ],
        [
         "15",
         "6745",
         "[2278]"
        ],
        [
         "16",
         "7126",
         "[4202, 5352]"
        ],
        [
         "17",
         "4636",
         "[3312]"
        ],
        [
         "18",
         "6214",
         "[6013]"
        ],
        [
         "19",
         "1908",
         "[6156]"
        ],
        [
         "20",
         "6858",
         "[4267]"
        ],
        [
         "21",
         "5293",
         "[2315]"
        ],
        [
         "22",
         "2493",
         "[2837, 293]"
        ],
        [
         "23",
         "5052",
         "[1573]"
        ],
        [
         "24",
         "5250",
         "[2559, 6252, 1386, 1994, 841]"
        ],
        [
         "25",
         "3721",
         "[6013]"
        ],
        [
         "26",
         "2441",
         "[858]"
        ],
        [
         "27",
         "1502",
         "[1400, 3474]"
        ],
        [
         "28",
         "5578",
         "[4443]"
        ],
        [
         "29",
         "1653",
         "[478, 458, 2946, 6311]"
        ],
        [
         "30",
         "3339",
         "[534]"
        ],
        [
         "31",
         "65",
         "[2305]"
        ],
        [
         "32",
         "3234",
         "[117]"
        ],
        [
         "33",
         "5231",
         "[1017]"
        ],
        [
         "34",
         "1952",
         "[1600]"
        ],
        [
         "35",
         "471",
         "[115]"
        ],
        [
         "36",
         "1485",
         "[2361]"
        ],
        [
         "37",
         "2989",
         "[2340]"
        ],
        [
         "38",
         "1925",
         "[5643, 620]"
        ],
        [
         "39",
         "2678",
         "[2348]"
        ],
        [
         "40",
         "458",
         "[1653, 2946, 6311]"
        ],
        [
         "41",
         "1483",
         "[4500]"
        ],
        [
         "42",
         "1651",
         "[6041]"
        ],
        [
         "43",
         "5121",
         "[5272, 3224]"
        ],
        [
         "44",
         "5272",
         "[5121]"
        ],
        [
         "45",
         "839",
         "[1904]"
        ],
        [
         "46",
         "1034",
         "[60]"
        ],
        [
         "47",
         "730",
         "[6055]"
        ],
        [
         "48",
         "3097",
         "[5920]"
        ],
        [
         "49",
         "2296",
         "[6027]"
        ]
       ],
       "shape": {
        "columns": 2,
        "rows": 472
       }
      },
      "text/html": [
       "<div>\n",
       "<style scoped>\n",
       "    .dataframe tbody tr th:only-of-type {\n",
       "        vertical-align: middle;\n",
       "    }\n",
       "\n",
       "    .dataframe tbody tr th {\n",
       "        vertical-align: top;\n",
       "    }\n",
       "\n",
       "    .dataframe thead th {\n",
       "        text-align: right;\n",
       "    }\n",
       "</style>\n",
       "<table border=\"1\" class=\"dataframe\">\n",
       "  <thead>\n",
       "    <tr style=\"text-align: right;\">\n",
       "      <th></th>\n",
       "      <th>user_id</th>\n",
       "      <th>friend_list</th>\n",
       "    </tr>\n",
       "  </thead>\n",
       "  <tbody>\n",
       "    <tr>\n",
       "      <th>0</th>\n",
       "      <td>3371</td>\n",
       "      <td>[2975]</td>\n",
       "    </tr>\n",
       "    <tr>\n",
       "      <th>1</th>\n",
       "      <td>24</td>\n",
       "      <td>[2665]</td>\n",
       "    </tr>\n",
       "    <tr>\n",
       "      <th>2</th>\n",
       "      <td>4402</td>\n",
       "      <td>[38]</td>\n",
       "    </tr>\n",
       "    <tr>\n",
       "      <th>3</th>\n",
       "      <td>4295</td>\n",
       "      <td>[4694]</td>\n",
       "    </tr>\n",
       "    <tr>\n",
       "      <th>4</th>\n",
       "      <td>7087</td>\n",
       "      <td>[7117]</td>\n",
       "    </tr>\n",
       "    <tr>\n",
       "      <th>...</th>\n",
       "      <td>...</td>\n",
       "      <td>...</td>\n",
       "    </tr>\n",
       "    <tr>\n",
       "      <th>467</th>\n",
       "      <td>2331</td>\n",
       "      <td>[4345]</td>\n",
       "    </tr>\n",
       "    <tr>\n",
       "      <th>468</th>\n",
       "      <td>6163</td>\n",
       "      <td>[1332]</td>\n",
       "    </tr>\n",
       "    <tr>\n",
       "      <th>469</th>\n",
       "      <td>3732</td>\n",
       "      <td>[670]</td>\n",
       "    </tr>\n",
       "    <tr>\n",
       "      <th>470</th>\n",
       "      <td>3335</td>\n",
       "      <td>[202]</td>\n",
       "    </tr>\n",
       "    <tr>\n",
       "      <th>471</th>\n",
       "      <td>5352</td>\n",
       "      <td>[4202, 7126]</td>\n",
       "    </tr>\n",
       "  </tbody>\n",
       "</table>\n",
       "<p>472 rows × 2 columns</p>\n",
       "</div>"
      ],
      "text/plain": [
       "     user_id   friend_list\n",
       "0       3371        [2975]\n",
       "1         24        [2665]\n",
       "2       4402          [38]\n",
       "3       4295        [4694]\n",
       "4       7087        [7117]\n",
       "..       ...           ...\n",
       "467     2331        [4345]\n",
       "468     6163        [1332]\n",
       "469     3732         [670]\n",
       "470     3335         [202]\n",
       "471     5352  [4202, 7126]\n",
       "\n",
       "[472 rows x 2 columns]"
      ]
     },
     "metadata": {},
     "output_type": "display_data"
    }
   ],
   "source": [
    "print(\"\\n--- SOCIAL NETWORK ---\\n\")\n",
    "print(f\"Dimensions: {social_network.shape}\")\n",
    "display(social_network.head(1000))"
   ]
  },
  {
   "cell_type": "code",
   "execution_count": 32,
   "id": "83a49266",
   "metadata": {},
   "outputs": [
    {
     "name": "stdout",
     "output_type": "stream",
     "text": [
      "\n",
      "--- USER FEATURES ---\n",
      "\n",
      "Dimensions: (7176, 31)\n"
     ]
    },
    {
     "data": {
      "application/vnd.microsoft.datawrangler.viewer.v0+json": {
       "columns": [
        {
         "name": "index",
         "rawType": "int64",
         "type": "integer"
        },
        {
         "name": "user_id",
         "rawType": "int64",
         "type": "integer"
        },
        {
         "name": "user_active_degree",
         "rawType": "object",
         "type": "string"
        },
        {
         "name": "is_lowactive_period",
         "rawType": "int64",
         "type": "integer"
        },
        {
         "name": "is_live_streamer",
         "rawType": "int64",
         "type": "integer"
        },
        {
         "name": "is_video_author",
         "rawType": "int64",
         "type": "integer"
        },
        {
         "name": "follow_user_num",
         "rawType": "int64",
         "type": "integer"
        },
        {
         "name": "follow_user_num_range",
         "rawType": "object",
         "type": "string"
        },
        {
         "name": "fans_user_num",
         "rawType": "int64",
         "type": "integer"
        },
        {
         "name": "fans_user_num_range",
         "rawType": "object",
         "type": "string"
        },
        {
         "name": "friend_user_num",
         "rawType": "int64",
         "type": "integer"
        },
        {
         "name": "friend_user_num_range",
         "rawType": "object",
         "type": "string"
        },
        {
         "name": "register_days",
         "rawType": "int64",
         "type": "integer"
        },
        {
         "name": "register_days_range",
         "rawType": "object",
         "type": "string"
        },
        {
         "name": "onehot_feat0",
         "rawType": "int64",
         "type": "integer"
        },
        {
         "name": "onehot_feat1",
         "rawType": "int64",
         "type": "integer"
        },
        {
         "name": "onehot_feat2",
         "rawType": "int64",
         "type": "integer"
        },
        {
         "name": "onehot_feat3",
         "rawType": "int64",
         "type": "integer"
        },
        {
         "name": "onehot_feat4",
         "rawType": "float64",
         "type": "float"
        },
        {
         "name": "onehot_feat5",
         "rawType": "int64",
         "type": "integer"
        },
        {
         "name": "onehot_feat6",
         "rawType": "int64",
         "type": "integer"
        },
        {
         "name": "onehot_feat7",
         "rawType": "int64",
         "type": "integer"
        },
        {
         "name": "onehot_feat8",
         "rawType": "int64",
         "type": "integer"
        },
        {
         "name": "onehot_feat9",
         "rawType": "int64",
         "type": "integer"
        },
        {
         "name": "onehot_feat10",
         "rawType": "int64",
         "type": "integer"
        },
        {
         "name": "onehot_feat11",
         "rawType": "int64",
         "type": "integer"
        },
        {
         "name": "onehot_feat12",
         "rawType": "float64",
         "type": "float"
        },
        {
         "name": "onehot_feat13",
         "rawType": "float64",
         "type": "float"
        },
        {
         "name": "onehot_feat14",
         "rawType": "float64",
         "type": "float"
        },
        {
         "name": "onehot_feat15",
         "rawType": "float64",
         "type": "float"
        },
        {
         "name": "onehot_feat16",
         "rawType": "float64",
         "type": "float"
        },
        {
         "name": "onehot_feat17",
         "rawType": "float64",
         "type": "float"
        }
       ],
       "conversionMethod": "pd.DataFrame",
       "ref": "2a2f4057-8460-4050-a74c-f03dea6059e6",
       "rows": [
        [
         "0",
         "0",
         "high_active",
         "0",
         "0",
         "0",
         "5",
         "(0,10]",
         "0",
         "0",
         "0",
         "0",
         "107",
         "61-90",
         "0",
         "1",
         "17",
         "638",
         "2.0",
         "0",
         "1",
         "6",
         "184",
         "6",
         "3",
         "0",
         "0.0",
         "0.0",
         "0.0",
         "0.0",
         "0.0",
         "0.0"
        ],
        [
         "1",
         "1",
         "full_active",
         "0",
         "0",
         "0",
         "386",
         "(250,500]",
         "4",
         "[1,10)",
         "2",
         "[1,5)",
         "327",
         "181-365",
         "0",
         "3",
         "25",
         "1021",
         "0.0",
         "0",
         "1",
         "6",
         "186",
         "6",
         "2",
         "0",
         "0.0",
         "0.0",
         "0.0",
         "0.0",
         "0.0",
         "0.0"
        ],
        [
         "2",
         "2",
         "full_active",
         "0",
         "0",
         "0",
         "27",
         "(10,50]",
         "0",
         "0",
         "0",
         "0",
         "116",
         "91-180",
         "0",
         "6",
         "8",
         "402",
         "0.0",
         "0",
         "0",
         "2",
         "51",
         "2",
         "3",
         "0",
         "0.0",
         "0.0",
         "0.0",
         "0.0",
         "0.0",
         "0.0"
        ],
        [
         "3",
         "3",
         "full_active",
         "0",
         "0",
         "0",
         "16",
         "(10,50]",
         "0",
         "0",
         "0",
         "0",
         "105",
         "61-90",
         "0",
         "1",
         "8",
         "281",
         "0.0",
         "0",
         "0",
         "34",
         "251",
         "3",
         "2",
         "0",
         "0.0",
         "0.0",
         "0.0",
         "0.0",
         "0.0",
         "0.0"
        ],
        [
         "4",
         "4",
         "full_active",
         "0",
         "0",
         "0",
         "122",
         "(100,150]",
         "4",
         "[1,10)",
         "0",
         "0",
         "225",
         "181-365",
         "0",
         "1",
         "8",
         "316",
         "1.0",
         "0",
         "1",
         "46",
         "99",
         "4",
         "2",
         "0",
         "0.0",
         "0.0",
         "0.0",
         "0.0",
         "0.0",
         "0.0"
        ]
       ],
       "shape": {
        "columns": 31,
        "rows": 5
       }
      },
      "text/html": [
       "<div>\n",
       "<style scoped>\n",
       "    .dataframe tbody tr th:only-of-type {\n",
       "        vertical-align: middle;\n",
       "    }\n",
       "\n",
       "    .dataframe tbody tr th {\n",
       "        vertical-align: top;\n",
       "    }\n",
       "\n",
       "    .dataframe thead th {\n",
       "        text-align: right;\n",
       "    }\n",
       "</style>\n",
       "<table border=\"1\" class=\"dataframe\">\n",
       "  <thead>\n",
       "    <tr style=\"text-align: right;\">\n",
       "      <th></th>\n",
       "      <th>user_id</th>\n",
       "      <th>user_active_degree</th>\n",
       "      <th>is_lowactive_period</th>\n",
       "      <th>is_live_streamer</th>\n",
       "      <th>is_video_author</th>\n",
       "      <th>follow_user_num</th>\n",
       "      <th>follow_user_num_range</th>\n",
       "      <th>fans_user_num</th>\n",
       "      <th>fans_user_num_range</th>\n",
       "      <th>friend_user_num</th>\n",
       "      <th>...</th>\n",
       "      <th>onehot_feat8</th>\n",
       "      <th>onehot_feat9</th>\n",
       "      <th>onehot_feat10</th>\n",
       "      <th>onehot_feat11</th>\n",
       "      <th>onehot_feat12</th>\n",
       "      <th>onehot_feat13</th>\n",
       "      <th>onehot_feat14</th>\n",
       "      <th>onehot_feat15</th>\n",
       "      <th>onehot_feat16</th>\n",
       "      <th>onehot_feat17</th>\n",
       "    </tr>\n",
       "  </thead>\n",
       "  <tbody>\n",
       "    <tr>\n",
       "      <th>0</th>\n",
       "      <td>0</td>\n",
       "      <td>high_active</td>\n",
       "      <td>0</td>\n",
       "      <td>0</td>\n",
       "      <td>0</td>\n",
       "      <td>5</td>\n",
       "      <td>(0,10]</td>\n",
       "      <td>0</td>\n",
       "      <td>0</td>\n",
       "      <td>0</td>\n",
       "      <td>...</td>\n",
       "      <td>184</td>\n",
       "      <td>6</td>\n",
       "      <td>3</td>\n",
       "      <td>0</td>\n",
       "      <td>0.0</td>\n",
       "      <td>0.0</td>\n",
       "      <td>0.0</td>\n",
       "      <td>0.0</td>\n",
       "      <td>0.0</td>\n",
       "      <td>0.0</td>\n",
       "    </tr>\n",
       "    <tr>\n",
       "      <th>1</th>\n",
       "      <td>1</td>\n",
       "      <td>full_active</td>\n",
       "      <td>0</td>\n",
       "      <td>0</td>\n",
       "      <td>0</td>\n",
       "      <td>386</td>\n",
       "      <td>(250,500]</td>\n",
       "      <td>4</td>\n",
       "      <td>[1,10)</td>\n",
       "      <td>2</td>\n",
       "      <td>...</td>\n",
       "      <td>186</td>\n",
       "      <td>6</td>\n",
       "      <td>2</td>\n",
       "      <td>0</td>\n",
       "      <td>0.0</td>\n",
       "      <td>0.0</td>\n",
       "      <td>0.0</td>\n",
       "      <td>0.0</td>\n",
       "      <td>0.0</td>\n",
       "      <td>0.0</td>\n",
       "    </tr>\n",
       "    <tr>\n",
       "      <th>2</th>\n",
       "      <td>2</td>\n",
       "      <td>full_active</td>\n",
       "      <td>0</td>\n",
       "      <td>0</td>\n",
       "      <td>0</td>\n",
       "      <td>27</td>\n",
       "      <td>(10,50]</td>\n",
       "      <td>0</td>\n",
       "      <td>0</td>\n",
       "      <td>0</td>\n",
       "      <td>...</td>\n",
       "      <td>51</td>\n",
       "      <td>2</td>\n",
       "      <td>3</td>\n",
       "      <td>0</td>\n",
       "      <td>0.0</td>\n",
       "      <td>0.0</td>\n",
       "      <td>0.0</td>\n",
       "      <td>0.0</td>\n",
       "      <td>0.0</td>\n",
       "      <td>0.0</td>\n",
       "    </tr>\n",
       "    <tr>\n",
       "      <th>3</th>\n",
       "      <td>3</td>\n",
       "      <td>full_active</td>\n",
       "      <td>0</td>\n",
       "      <td>0</td>\n",
       "      <td>0</td>\n",
       "      <td>16</td>\n",
       "      <td>(10,50]</td>\n",
       "      <td>0</td>\n",
       "      <td>0</td>\n",
       "      <td>0</td>\n",
       "      <td>...</td>\n",
       "      <td>251</td>\n",
       "      <td>3</td>\n",
       "      <td>2</td>\n",
       "      <td>0</td>\n",
       "      <td>0.0</td>\n",
       "      <td>0.0</td>\n",
       "      <td>0.0</td>\n",
       "      <td>0.0</td>\n",
       "      <td>0.0</td>\n",
       "      <td>0.0</td>\n",
       "    </tr>\n",
       "    <tr>\n",
       "      <th>4</th>\n",
       "      <td>4</td>\n",
       "      <td>full_active</td>\n",
       "      <td>0</td>\n",
       "      <td>0</td>\n",
       "      <td>0</td>\n",
       "      <td>122</td>\n",
       "      <td>(100,150]</td>\n",
       "      <td>4</td>\n",
       "      <td>[1,10)</td>\n",
       "      <td>0</td>\n",
       "      <td>...</td>\n",
       "      <td>99</td>\n",
       "      <td>4</td>\n",
       "      <td>2</td>\n",
       "      <td>0</td>\n",
       "      <td>0.0</td>\n",
       "      <td>0.0</td>\n",
       "      <td>0.0</td>\n",
       "      <td>0.0</td>\n",
       "      <td>0.0</td>\n",
       "      <td>0.0</td>\n",
       "    </tr>\n",
       "  </tbody>\n",
       "</table>\n",
       "<p>5 rows × 31 columns</p>\n",
       "</div>"
      ],
      "text/plain": [
       "   user_id user_active_degree  is_lowactive_period  is_live_streamer  \\\n",
       "0        0        high_active                    0                 0   \n",
       "1        1        full_active                    0                 0   \n",
       "2        2        full_active                    0                 0   \n",
       "3        3        full_active                    0                 0   \n",
       "4        4        full_active                    0                 0   \n",
       "\n",
       "   is_video_author  follow_user_num follow_user_num_range  fans_user_num  \\\n",
       "0                0                5                (0,10]              0   \n",
       "1                0              386             (250,500]              4   \n",
       "2                0               27               (10,50]              0   \n",
       "3                0               16               (10,50]              0   \n",
       "4                0              122             (100,150]              4   \n",
       "\n",
       "  fans_user_num_range  friend_user_num  ... onehot_feat8  onehot_feat9  \\\n",
       "0                   0                0  ...          184             6   \n",
       "1              [1,10)                2  ...          186             6   \n",
       "2                   0                0  ...           51             2   \n",
       "3                   0                0  ...          251             3   \n",
       "4              [1,10)                0  ...           99             4   \n",
       "\n",
       "  onehot_feat10  onehot_feat11  onehot_feat12  onehot_feat13  onehot_feat14  \\\n",
       "0             3              0            0.0            0.0            0.0   \n",
       "1             2              0            0.0            0.0            0.0   \n",
       "2             3              0            0.0            0.0            0.0   \n",
       "3             2              0            0.0            0.0            0.0   \n",
       "4             2              0            0.0            0.0            0.0   \n",
       "\n",
       "   onehot_feat15  onehot_feat16  onehot_feat17  \n",
       "0            0.0            0.0            0.0  \n",
       "1            0.0            0.0            0.0  \n",
       "2            0.0            0.0            0.0  \n",
       "3            0.0            0.0            0.0  \n",
       "4            0.0            0.0            0.0  \n",
       "\n",
       "[5 rows x 31 columns]"
      ]
     },
     "metadata": {},
     "output_type": "display_data"
    },
    {
     "name": "stdout",
     "output_type": "stream",
     "text": [
      "Distribution de l'activité des utilisateurs:\n",
      "user_active_degree\n",
      "full_active      6092\n",
      "high_active       938\n",
      "UNKNOWN           118\n",
      "middle_active      28\n",
      "Name: count, dtype: int64\n",
      "\n",
      "Nb valeurs de user_id: 7176\n"
     ]
    }
   ],
   "source": [
    "print(\"\\n--- USER FEATURES ---\\n\")\n",
    "print(f\"Dimensions: {user_features.shape}\")\n",
    "display(user_features.head())\n",
    "print(\"Distribution de l'activité des utilisateurs:\")\n",
    "if 'user_active_degree' in user_features.columns:\n",
    "    print(user_features['user_active_degree'].value_counts())\n",
    "\n",
    "print(\"\\nNb valeurs de user_id:\", user_features['user_id'].nunique())"
   ]
  },
  {
   "cell_type": "code",
   "execution_count": null,
   "id": "905a608d",
   "metadata": {},
   "outputs": [
    {
     "name": "stdout",
     "output_type": "stream",
     "text": [
      "\n",
      "--- Analyse des interactions ---\n",
      "Nombre d'utilisateurs uniques: 1411\n",
      "Nombre de vidéos uniques: 3327\n",
      "Nombre total d'interactions: 4676570\n",
      "Densité de la matrice utilisateur-item: 0.9962024941648523\n"
     ]
    }
   ],
   "source": [
    "# Analyser les interactions\n",
    "print(\"\\n--- Analyse des interactions ---\")\n",
    "print(\"Nombre d'utilisateurs uniques:\", interactions['user_id'].nunique())\n",
    "print(\"Nombre de vidéos uniques:\", interactions['video_id'].nunique())\n",
    "print(\"Nombre total d'interactions:\", len(interactions))\n",
    "print(\"Densité de la matrice utilisateur-item:\", \n",
    "      len(interactions) / (interactions['user_id'].nunique() * interactions['video_id'].nunique()))\n",
    "# Densité = Nombre d'interactions / (Nombre d'utilisateurs * Nombre de vidéos) \n",
    "# = 1 si chaque utilisateur a interagi avec chaque vidéo\n"
   ]
  },
  {
   "cell_type": "code",
   "execution_count": 10,
   "id": "496ffcee",
   "metadata": {},
   "outputs": [
    {
     "data": {
      "image/png": "[encoded data removed]",
      "text/plain": [
       "<Figure size 1000x600 with 1 Axes>"
      ]
     },
     "metadata": {},
     "output_type": "display_data"
    }
   ],
   "source": [
    "# Analyser les ratios de visionnement\n",
    "if 'watch_ratio' in interactions.columns:   \n",
    "    # Relation entre durée de visionnement et durée de la vidéo\n",
    "    plt.figure(figsize=(10, 6))\n",
    "    sns.scatterplot(data=interactions.sample(1000), x='video_duration', y='play_duration', alpha=0.5)\n",
    "    plt.title('Relation entre durée de la vidéo et durée de visionnement')\n",
    "    plt.xlabel('Durée de la vidéo (s)')\n",
    "    plt.ylabel('Durée de visionnement (s)')\n",
    "    plt.savefig('play_vs_video_duration.png')\n",
    "    plt.show()"
   ]
  },
  {
   "cell_type": "code",
   "execution_count": 11,
   "id": "9d8b886d",
   "metadata": {},
   "outputs": [
    {
     "name": "stdout",
     "output_type": "stream",
     "text": [
      "\n",
      "--- Top 10 des vidéos les plus regardées ---\n",
      "video_id\n",
      "9804     1411\n",
      "4106     1411\n",
      "4125     1411\n",
      "4123     1411\n",
      "4122     1411\n",
      "4121     1411\n",
      "4120     1411\n",
      "4119     1411\n",
      "10067    1411\n",
      "4114     1411\n",
      "dtype: int64\n"
     ]
    }
   ],
   "source": [
    "# Analyser les vidéos les plus populaires\n",
    "print(\"\\n--- Top 10 des vidéos les plus regardées ---\")\n",
    "video_popularity = interactions.groupby('video_id').size().sort_values(ascending=False)\n",
    "print(video_popularity.head(10))\n"
   ]
  },
  {
   "cell_type": "code",
   "execution_count": 12,
   "id": "21b9171c",
   "metadata": {},
   "outputs": [
    {
     "name": "stdout",
     "output_type": "stream",
     "text": [
      "\n",
      "--- Top 10 des utilisateurs les plus actifs ---\n",
      "user_id\n",
      "4681    3327\n",
      "6886    3327\n",
      "5149    3327\n",
      "3201    3327\n",
      "1834    3327\n",
      "5339    3327\n",
      "6122    3327\n",
      "7018    3327\n",
      "137     3326\n",
      "2007    3326\n",
      "dtype: int64\n"
     ]
    }
   ],
   "source": [
    "# Analyser les utilisateurs les plus actifs\n",
    "print(\"\\n--- Top 10 des utilisateurs les plus actifs ---\")\n",
    "user_activity = interactions.groupby('user_id').size().sort_values(ascending=False)\n",
    "print(user_activity.head(10))"
   ]
  },
  {
   "cell_type": "code",
   "execution_count": 13,
   "id": "bfefa2d2",
   "metadata": {},
   "outputs": [
    {
     "name": "stdout",
     "output_type": "stream",
     "text": [
      "\n",
      "--- Valeurs manquantes dans les données ---\n",
      "Interactions: 545976\n",
      "Catégories d'items: 0\n",
      "Catégories et légendes: 1392\n",
      "Caractéristiques quotidiennes des items: 321764\n",
      "Réseau social: 0\n",
      "Caractéristiques utilisateurs: 650\n"
     ]
    }
   ],
   "source": [
    "# Vérifier s'il y a des valeurs manquantes\n",
    "print(\"\\n--- Valeurs manquantes dans les données ---\")\n",
    "print(\"Interactions:\", interactions.isnull().sum().sum())\n",
    "print(\"Catégories d'items:\", item_categories.isnull().sum().sum())\n",
    "print(\"Catégories et légendes:\", kuairec_caption_category.isnull().sum().sum())\n",
    "print(\"Caractéristiques quotidiennes des items:\", item_daily_features.isnull().sum().sum())\n",
    "print(\"Réseau social:\", social_network.isnull().sum().sum())\n",
    "print(\"Caractéristiques utilisateurs:\", user_features.isnull().sum().sum())"
   ]
  },
  {
   "cell_type": "code",
   "execution_count": null,
   "id": "336a3d4d",
   "metadata": {},
   "outputs": [],
   "source": []
  }
 ],
 "metadata": {
  "kernelspec": {
   "display_name": "recommender-system-lectures",
   "language": "python",
   "name": "python3"
  },
  "language_info": {
   "codemirror_mode": {
    "name": "ipython",
    "version": 3
   },
   "file_extension": ".py",
   "mimetype": "text/x-python",
   "name": "python",
   "nbconvert_exporter": "python",
   "pygments_lexer": "ipython3",
   "version": "3.9.21"
  }
 },
 "nbformat": 4,
 "nbformat_minor": 5
}
